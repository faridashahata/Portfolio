{
  "nbformat": 4,
  "nbformat_minor": 0,
  "metadata": {
    "colab": {
      "provenance": [],
      "gpuType": "T4"
    },
    "kernelspec": {
      "name": "python3",
      "display_name": "Python 3"
    },
    "language_info": {
      "name": "python"
    },
    "accelerator": "TPU",
    "widgets": {
      "application/vnd.jupyter.widget-state+json": {
        "387216b1ffee401ab3eae3df8cf581f0": {
          "model_module": "@jupyter-widgets/controls",
          "model_name": "HBoxModel",
          "model_module_version": "1.5.0",
          "state": {
            "_dom_classes": [],
            "_model_module": "@jupyter-widgets/controls",
            "_model_module_version": "1.5.0",
            "_model_name": "HBoxModel",
            "_view_count": null,
            "_view_module": "@jupyter-widgets/controls",
            "_view_module_version": "1.5.0",
            "_view_name": "HBoxView",
            "box_style": "",
            "children": [
              "IPY_MODEL_0756056b0d85434fa8a75d4ab8cdfd34",
              "IPY_MODEL_88abbce066194e109481591049cb6d3d",
              "IPY_MODEL_776742f64e1e40b99418c8fdb05e2602"
            ],
            "layout": "IPY_MODEL_1b9c5562929b41699dceca1042af25d6"
          }
        },
        "0756056b0d85434fa8a75d4ab8cdfd34": {
          "model_module": "@jupyter-widgets/controls",
          "model_name": "HTMLModel",
          "model_module_version": "1.5.0",
          "state": {
            "_dom_classes": [],
            "_model_module": "@jupyter-widgets/controls",
            "_model_module_version": "1.5.0",
            "_model_name": "HTMLModel",
            "_view_count": null,
            "_view_module": "@jupyter-widgets/controls",
            "_view_module_version": "1.5.0",
            "_view_name": "HTMLView",
            "description": "",
            "description_tooltip": null,
            "layout": "IPY_MODEL_efd57b04bcc145f4afe505b1347851e3",
            "placeholder": "​",
            "style": "IPY_MODEL_68d41a1d4efe4be0b121047bd392a663",
            "value": "Downloading (…)lve/main/config.json: 100%"
          }
        },
        "88abbce066194e109481591049cb6d3d": {
          "model_module": "@jupyter-widgets/controls",
          "model_name": "FloatProgressModel",
          "model_module_version": "1.5.0",
          "state": {
            "_dom_classes": [],
            "_model_module": "@jupyter-widgets/controls",
            "_model_module_version": "1.5.0",
            "_model_name": "FloatProgressModel",
            "_view_count": null,
            "_view_module": "@jupyter-widgets/controls",
            "_view_module_version": "1.5.0",
            "_view_name": "ProgressView",
            "bar_style": "success",
            "description": "",
            "description_tooltip": null,
            "layout": "IPY_MODEL_bf82c65bdbea402fa4ffb11acd2c0daa",
            "max": 481,
            "min": 0,
            "orientation": "horizontal",
            "style": "IPY_MODEL_71da87c3f2564508af2e06a57413aa0c",
            "value": 481
          }
        },
        "776742f64e1e40b99418c8fdb05e2602": {
          "model_module": "@jupyter-widgets/controls",
          "model_name": "HTMLModel",
          "model_module_version": "1.5.0",
          "state": {
            "_dom_classes": [],
            "_model_module": "@jupyter-widgets/controls",
            "_model_module_version": "1.5.0",
            "_model_name": "HTMLModel",
            "_view_count": null,
            "_view_module": "@jupyter-widgets/controls",
            "_view_module_version": "1.5.0",
            "_view_name": "HTMLView",
            "description": "",
            "description_tooltip": null,
            "layout": "IPY_MODEL_d710854311894fd4a3f7ca5d8ef1a630",
            "placeholder": "​",
            "style": "IPY_MODEL_8c11a9f2a666443f99a47145f54c536d",
            "value": " 481/481 [00:00&lt;00:00, 21.2kB/s]"
          }
        },
        "1b9c5562929b41699dceca1042af25d6": {
          "model_module": "@jupyter-widgets/base",
          "model_name": "LayoutModel",
          "model_module_version": "1.2.0",
          "state": {
            "_model_module": "@jupyter-widgets/base",
            "_model_module_version": "1.2.0",
            "_model_name": "LayoutModel",
            "_view_count": null,
            "_view_module": "@jupyter-widgets/base",
            "_view_module_version": "1.2.0",
            "_view_name": "LayoutView",
            "align_content": null,
            "align_items": null,
            "align_self": null,
            "border": null,
            "bottom": null,
            "display": null,
            "flex": null,
            "flex_flow": null,
            "grid_area": null,
            "grid_auto_columns": null,
            "grid_auto_flow": null,
            "grid_auto_rows": null,
            "grid_column": null,
            "grid_gap": null,
            "grid_row": null,
            "grid_template_areas": null,
            "grid_template_columns": null,
            "grid_template_rows": null,
            "height": null,
            "justify_content": null,
            "justify_items": null,
            "left": null,
            "margin": null,
            "max_height": null,
            "max_width": null,
            "min_height": null,
            "min_width": null,
            "object_fit": null,
            "object_position": null,
            "order": null,
            "overflow": null,
            "overflow_x": null,
            "overflow_y": null,
            "padding": null,
            "right": null,
            "top": null,
            "visibility": null,
            "width": null
          }
        },
        "efd57b04bcc145f4afe505b1347851e3": {
          "model_module": "@jupyter-widgets/base",
          "model_name": "LayoutModel",
          "model_module_version": "1.2.0",
          "state": {
            "_model_module": "@jupyter-widgets/base",
            "_model_module_version": "1.2.0",
            "_model_name": "LayoutModel",
            "_view_count": null,
            "_view_module": "@jupyter-widgets/base",
            "_view_module_version": "1.2.0",
            "_view_name": "LayoutView",
            "align_content": null,
            "align_items": null,
            "align_self": null,
            "border": null,
            "bottom": null,
            "display": null,
            "flex": null,
            "flex_flow": null,
            "grid_area": null,
            "grid_auto_columns": null,
            "grid_auto_flow": null,
            "grid_auto_rows": null,
            "grid_column": null,
            "grid_gap": null,
            "grid_row": null,
            "grid_template_areas": null,
            "grid_template_columns": null,
            "grid_template_rows": null,
            "height": null,
            "justify_content": null,
            "justify_items": null,
            "left": null,
            "margin": null,
            "max_height": null,
            "max_width": null,
            "min_height": null,
            "min_width": null,
            "object_fit": null,
            "object_position": null,
            "order": null,
            "overflow": null,
            "overflow_x": null,
            "overflow_y": null,
            "padding": null,
            "right": null,
            "top": null,
            "visibility": null,
            "width": null
          }
        },
        "68d41a1d4efe4be0b121047bd392a663": {
          "model_module": "@jupyter-widgets/controls",
          "model_name": "DescriptionStyleModel",
          "model_module_version": "1.5.0",
          "state": {
            "_model_module": "@jupyter-widgets/controls",
            "_model_module_version": "1.5.0",
            "_model_name": "DescriptionStyleModel",
            "_view_count": null,
            "_view_module": "@jupyter-widgets/base",
            "_view_module_version": "1.2.0",
            "_view_name": "StyleView",
            "description_width": ""
          }
        },
        "bf82c65bdbea402fa4ffb11acd2c0daa": {
          "model_module": "@jupyter-widgets/base",
          "model_name": "LayoutModel",
          "model_module_version": "1.2.0",
          "state": {
            "_model_module": "@jupyter-widgets/base",
            "_model_module_version": "1.2.0",
            "_model_name": "LayoutModel",
            "_view_count": null,
            "_view_module": "@jupyter-widgets/base",
            "_view_module_version": "1.2.0",
            "_view_name": "LayoutView",
            "align_content": null,
            "align_items": null,
            "align_self": null,
            "border": null,
            "bottom": null,
            "display": null,
            "flex": null,
            "flex_flow": null,
            "grid_area": null,
            "grid_auto_columns": null,
            "grid_auto_flow": null,
            "grid_auto_rows": null,
            "grid_column": null,
            "grid_gap": null,
            "grid_row": null,
            "grid_template_areas": null,
            "grid_template_columns": null,
            "grid_template_rows": null,
            "height": null,
            "justify_content": null,
            "justify_items": null,
            "left": null,
            "margin": null,
            "max_height": null,
            "max_width": null,
            "min_height": null,
            "min_width": null,
            "object_fit": null,
            "object_position": null,
            "order": null,
            "overflow": null,
            "overflow_x": null,
            "overflow_y": null,
            "padding": null,
            "right": null,
            "top": null,
            "visibility": null,
            "width": null
          }
        },
        "71da87c3f2564508af2e06a57413aa0c": {
          "model_module": "@jupyter-widgets/controls",
          "model_name": "ProgressStyleModel",
          "model_module_version": "1.5.0",
          "state": {
            "_model_module": "@jupyter-widgets/controls",
            "_model_module_version": "1.5.0",
            "_model_name": "ProgressStyleModel",
            "_view_count": null,
            "_view_module": "@jupyter-widgets/base",
            "_view_module_version": "1.2.0",
            "_view_name": "StyleView",
            "bar_color": null,
            "description_width": ""
          }
        },
        "d710854311894fd4a3f7ca5d8ef1a630": {
          "model_module": "@jupyter-widgets/base",
          "model_name": "LayoutModel",
          "model_module_version": "1.2.0",
          "state": {
            "_model_module": "@jupyter-widgets/base",
            "_model_module_version": "1.2.0",
            "_model_name": "LayoutModel",
            "_view_count": null,
            "_view_module": "@jupyter-widgets/base",
            "_view_module_version": "1.2.0",
            "_view_name": "LayoutView",
            "align_content": null,
            "align_items": null,
            "align_self": null,
            "border": null,
            "bottom": null,
            "display": null,
            "flex": null,
            "flex_flow": null,
            "grid_area": null,
            "grid_auto_columns": null,
            "grid_auto_flow": null,
            "grid_auto_rows": null,
            "grid_column": null,
            "grid_gap": null,
            "grid_row": null,
            "grid_template_areas": null,
            "grid_template_columns": null,
            "grid_template_rows": null,
            "height": null,
            "justify_content": null,
            "justify_items": null,
            "left": null,
            "margin": null,
            "max_height": null,
            "max_width": null,
            "min_height": null,
            "min_width": null,
            "object_fit": null,
            "object_position": null,
            "order": null,
            "overflow": null,
            "overflow_x": null,
            "overflow_y": null,
            "padding": null,
            "right": null,
            "top": null,
            "visibility": null,
            "width": null
          }
        },
        "8c11a9f2a666443f99a47145f54c536d": {
          "model_module": "@jupyter-widgets/controls",
          "model_name": "DescriptionStyleModel",
          "model_module_version": "1.5.0",
          "state": {
            "_model_module": "@jupyter-widgets/controls",
            "_model_module_version": "1.5.0",
            "_model_name": "DescriptionStyleModel",
            "_view_count": null,
            "_view_module": "@jupyter-widgets/base",
            "_view_module_version": "1.2.0",
            "_view_name": "StyleView",
            "description_width": ""
          }
        },
        "808216e9fbb648d0a1a127fe62295387": {
          "model_module": "@jupyter-widgets/controls",
          "model_name": "HBoxModel",
          "model_module_version": "1.5.0",
          "state": {
            "_dom_classes": [],
            "_model_module": "@jupyter-widgets/controls",
            "_model_module_version": "1.5.0",
            "_model_name": "HBoxModel",
            "_view_count": null,
            "_view_module": "@jupyter-widgets/controls",
            "_view_module_version": "1.5.0",
            "_view_name": "HBoxView",
            "box_style": "",
            "children": [
              "IPY_MODEL_103bdc4a911f438b838567006cd81dc7",
              "IPY_MODEL_d3e1820e6d754bf296e6c92bf320d16d",
              "IPY_MODEL_cc9591bb7746405694d0362509d3232d"
            ],
            "layout": "IPY_MODEL_ee7bfde86fd54b5b8186c607978f3b4d"
          }
        },
        "103bdc4a911f438b838567006cd81dc7": {
          "model_module": "@jupyter-widgets/controls",
          "model_name": "HTMLModel",
          "model_module_version": "1.5.0",
          "state": {
            "_dom_classes": [],
            "_model_module": "@jupyter-widgets/controls",
            "_model_module_version": "1.5.0",
            "_model_name": "HTMLModel",
            "_view_count": null,
            "_view_module": "@jupyter-widgets/controls",
            "_view_module_version": "1.5.0",
            "_view_name": "HTMLView",
            "description": "",
            "description_tooltip": null,
            "layout": "IPY_MODEL_9565813ba5f0400bab54b6c2cedcaac4",
            "placeholder": "​",
            "style": "IPY_MODEL_39c0f0e30ec04259a5358ee37b958fdd",
            "value": "Downloading (…)olve/main/vocab.json: 100%"
          }
        },
        "d3e1820e6d754bf296e6c92bf320d16d": {
          "model_module": "@jupyter-widgets/controls",
          "model_name": "FloatProgressModel",
          "model_module_version": "1.5.0",
          "state": {
            "_dom_classes": [],
            "_model_module": "@jupyter-widgets/controls",
            "_model_module_version": "1.5.0",
            "_model_name": "FloatProgressModel",
            "_view_count": null,
            "_view_module": "@jupyter-widgets/controls",
            "_view_module_version": "1.5.0",
            "_view_name": "ProgressView",
            "bar_style": "success",
            "description": "",
            "description_tooltip": null,
            "layout": "IPY_MODEL_6acd9df38ad74b4eb20c3ebf00e9a74f",
            "max": 898823,
            "min": 0,
            "orientation": "horizontal",
            "style": "IPY_MODEL_d4276167dfae49dda1094373a5d1ca2d",
            "value": 898823
          }
        },
        "cc9591bb7746405694d0362509d3232d": {
          "model_module": "@jupyter-widgets/controls",
          "model_name": "HTMLModel",
          "model_module_version": "1.5.0",
          "state": {
            "_dom_classes": [],
            "_model_module": "@jupyter-widgets/controls",
            "_model_module_version": "1.5.0",
            "_model_name": "HTMLModel",
            "_view_count": null,
            "_view_module": "@jupyter-widgets/controls",
            "_view_module_version": "1.5.0",
            "_view_name": "HTMLView",
            "description": "",
            "description_tooltip": null,
            "layout": "IPY_MODEL_d127a300fd534fdca317dcefb6d3df75",
            "placeholder": "​",
            "style": "IPY_MODEL_cf0e0b1ef11241d186cab49788520c44",
            "value": " 899k/899k [00:00&lt;00:00, 10.9MB/s]"
          }
        },
        "ee7bfde86fd54b5b8186c607978f3b4d": {
          "model_module": "@jupyter-widgets/base",
          "model_name": "LayoutModel",
          "model_module_version": "1.2.0",
          "state": {
            "_model_module": "@jupyter-widgets/base",
            "_model_module_version": "1.2.0",
            "_model_name": "LayoutModel",
            "_view_count": null,
            "_view_module": "@jupyter-widgets/base",
            "_view_module_version": "1.2.0",
            "_view_name": "LayoutView",
            "align_content": null,
            "align_items": null,
            "align_self": null,
            "border": null,
            "bottom": null,
            "display": null,
            "flex": null,
            "flex_flow": null,
            "grid_area": null,
            "grid_auto_columns": null,
            "grid_auto_flow": null,
            "grid_auto_rows": null,
            "grid_column": null,
            "grid_gap": null,
            "grid_row": null,
            "grid_template_areas": null,
            "grid_template_columns": null,
            "grid_template_rows": null,
            "height": null,
            "justify_content": null,
            "justify_items": null,
            "left": null,
            "margin": null,
            "max_height": null,
            "max_width": null,
            "min_height": null,
            "min_width": null,
            "object_fit": null,
            "object_position": null,
            "order": null,
            "overflow": null,
            "overflow_x": null,
            "overflow_y": null,
            "padding": null,
            "right": null,
            "top": null,
            "visibility": null,
            "width": null
          }
        },
        "9565813ba5f0400bab54b6c2cedcaac4": {
          "model_module": "@jupyter-widgets/base",
          "model_name": "LayoutModel",
          "model_module_version": "1.2.0",
          "state": {
            "_model_module": "@jupyter-widgets/base",
            "_model_module_version": "1.2.0",
            "_model_name": "LayoutModel",
            "_view_count": null,
            "_view_module": "@jupyter-widgets/base",
            "_view_module_version": "1.2.0",
            "_view_name": "LayoutView",
            "align_content": null,
            "align_items": null,
            "align_self": null,
            "border": null,
            "bottom": null,
            "display": null,
            "flex": null,
            "flex_flow": null,
            "grid_area": null,
            "grid_auto_columns": null,
            "grid_auto_flow": null,
            "grid_auto_rows": null,
            "grid_column": null,
            "grid_gap": null,
            "grid_row": null,
            "grid_template_areas": null,
            "grid_template_columns": null,
            "grid_template_rows": null,
            "height": null,
            "justify_content": null,
            "justify_items": null,
            "left": null,
            "margin": null,
            "max_height": null,
            "max_width": null,
            "min_height": null,
            "min_width": null,
            "object_fit": null,
            "object_position": null,
            "order": null,
            "overflow": null,
            "overflow_x": null,
            "overflow_y": null,
            "padding": null,
            "right": null,
            "top": null,
            "visibility": null,
            "width": null
          }
        },
        "39c0f0e30ec04259a5358ee37b958fdd": {
          "model_module": "@jupyter-widgets/controls",
          "model_name": "DescriptionStyleModel",
          "model_module_version": "1.5.0",
          "state": {
            "_model_module": "@jupyter-widgets/controls",
            "_model_module_version": "1.5.0",
            "_model_name": "DescriptionStyleModel",
            "_view_count": null,
            "_view_module": "@jupyter-widgets/base",
            "_view_module_version": "1.2.0",
            "_view_name": "StyleView",
            "description_width": ""
          }
        },
        "6acd9df38ad74b4eb20c3ebf00e9a74f": {
          "model_module": "@jupyter-widgets/base",
          "model_name": "LayoutModel",
          "model_module_version": "1.2.0",
          "state": {
            "_model_module": "@jupyter-widgets/base",
            "_model_module_version": "1.2.0",
            "_model_name": "LayoutModel",
            "_view_count": null,
            "_view_module": "@jupyter-widgets/base",
            "_view_module_version": "1.2.0",
            "_view_name": "LayoutView",
            "align_content": null,
            "align_items": null,
            "align_self": null,
            "border": null,
            "bottom": null,
            "display": null,
            "flex": null,
            "flex_flow": null,
            "grid_area": null,
            "grid_auto_columns": null,
            "grid_auto_flow": null,
            "grid_auto_rows": null,
            "grid_column": null,
            "grid_gap": null,
            "grid_row": null,
            "grid_template_areas": null,
            "grid_template_columns": null,
            "grid_template_rows": null,
            "height": null,
            "justify_content": null,
            "justify_items": null,
            "left": null,
            "margin": null,
            "max_height": null,
            "max_width": null,
            "min_height": null,
            "min_width": null,
            "object_fit": null,
            "object_position": null,
            "order": null,
            "overflow": null,
            "overflow_x": null,
            "overflow_y": null,
            "padding": null,
            "right": null,
            "top": null,
            "visibility": null,
            "width": null
          }
        },
        "d4276167dfae49dda1094373a5d1ca2d": {
          "model_module": "@jupyter-widgets/controls",
          "model_name": "ProgressStyleModel",
          "model_module_version": "1.5.0",
          "state": {
            "_model_module": "@jupyter-widgets/controls",
            "_model_module_version": "1.5.0",
            "_model_name": "ProgressStyleModel",
            "_view_count": null,
            "_view_module": "@jupyter-widgets/base",
            "_view_module_version": "1.2.0",
            "_view_name": "StyleView",
            "bar_color": null,
            "description_width": ""
          }
        },
        "d127a300fd534fdca317dcefb6d3df75": {
          "model_module": "@jupyter-widgets/base",
          "model_name": "LayoutModel",
          "model_module_version": "1.2.0",
          "state": {
            "_model_module": "@jupyter-widgets/base",
            "_model_module_version": "1.2.0",
            "_model_name": "LayoutModel",
            "_view_count": null,
            "_view_module": "@jupyter-widgets/base",
            "_view_module_version": "1.2.0",
            "_view_name": "LayoutView",
            "align_content": null,
            "align_items": null,
            "align_self": null,
            "border": null,
            "bottom": null,
            "display": null,
            "flex": null,
            "flex_flow": null,
            "grid_area": null,
            "grid_auto_columns": null,
            "grid_auto_flow": null,
            "grid_auto_rows": null,
            "grid_column": null,
            "grid_gap": null,
            "grid_row": null,
            "grid_template_areas": null,
            "grid_template_columns": null,
            "grid_template_rows": null,
            "height": null,
            "justify_content": null,
            "justify_items": null,
            "left": null,
            "margin": null,
            "max_height": null,
            "max_width": null,
            "min_height": null,
            "min_width": null,
            "object_fit": null,
            "object_position": null,
            "order": null,
            "overflow": null,
            "overflow_x": null,
            "overflow_y": null,
            "padding": null,
            "right": null,
            "top": null,
            "visibility": null,
            "width": null
          }
        },
        "cf0e0b1ef11241d186cab49788520c44": {
          "model_module": "@jupyter-widgets/controls",
          "model_name": "DescriptionStyleModel",
          "model_module_version": "1.5.0",
          "state": {
            "_model_module": "@jupyter-widgets/controls",
            "_model_module_version": "1.5.0",
            "_model_name": "DescriptionStyleModel",
            "_view_count": null,
            "_view_module": "@jupyter-widgets/base",
            "_view_module_version": "1.2.0",
            "_view_name": "StyleView",
            "description_width": ""
          }
        },
        "5b4f7aeac5aa402faa6ad0596c5e5af9": {
          "model_module": "@jupyter-widgets/controls",
          "model_name": "HBoxModel",
          "model_module_version": "1.5.0",
          "state": {
            "_dom_classes": [],
            "_model_module": "@jupyter-widgets/controls",
            "_model_module_version": "1.5.0",
            "_model_name": "HBoxModel",
            "_view_count": null,
            "_view_module": "@jupyter-widgets/controls",
            "_view_module_version": "1.5.0",
            "_view_name": "HBoxView",
            "box_style": "",
            "children": [
              "IPY_MODEL_5dded9d7f6114ae1bde81dd91f36b598",
              "IPY_MODEL_1eb168a241d543dfbdada87cd7bc5db9",
              "IPY_MODEL_af52f84b609647238abfe0a7c1929ee2"
            ],
            "layout": "IPY_MODEL_6699697f7abf458b978677c4972b9f9d"
          }
        },
        "5dded9d7f6114ae1bde81dd91f36b598": {
          "model_module": "@jupyter-widgets/controls",
          "model_name": "HTMLModel",
          "model_module_version": "1.5.0",
          "state": {
            "_dom_classes": [],
            "_model_module": "@jupyter-widgets/controls",
            "_model_module_version": "1.5.0",
            "_model_name": "HTMLModel",
            "_view_count": null,
            "_view_module": "@jupyter-widgets/controls",
            "_view_module_version": "1.5.0",
            "_view_name": "HTMLView",
            "description": "",
            "description_tooltip": null,
            "layout": "IPY_MODEL_fb1f2537f1e14ca98e4f2eb6a86c8319",
            "placeholder": "​",
            "style": "IPY_MODEL_2fa1b1defa0f4173a168ab85314f000c",
            "value": "Downloading (…)olve/main/merges.txt: 100%"
          }
        },
        "1eb168a241d543dfbdada87cd7bc5db9": {
          "model_module": "@jupyter-widgets/controls",
          "model_name": "FloatProgressModel",
          "model_module_version": "1.5.0",
          "state": {
            "_dom_classes": [],
            "_model_module": "@jupyter-widgets/controls",
            "_model_module_version": "1.5.0",
            "_model_name": "FloatProgressModel",
            "_view_count": null,
            "_view_module": "@jupyter-widgets/controls",
            "_view_module_version": "1.5.0",
            "_view_name": "ProgressView",
            "bar_style": "success",
            "description": "",
            "description_tooltip": null,
            "layout": "IPY_MODEL_4328875e78b8447697a615ba112213b1",
            "max": 456318,
            "min": 0,
            "orientation": "horizontal",
            "style": "IPY_MODEL_4ded6a2db5cb4fe1b6cc97b4a094a03c",
            "value": 456318
          }
        },
        "af52f84b609647238abfe0a7c1929ee2": {
          "model_module": "@jupyter-widgets/controls",
          "model_name": "HTMLModel",
          "model_module_version": "1.5.0",
          "state": {
            "_dom_classes": [],
            "_model_module": "@jupyter-widgets/controls",
            "_model_module_version": "1.5.0",
            "_model_name": "HTMLModel",
            "_view_count": null,
            "_view_module": "@jupyter-widgets/controls",
            "_view_module_version": "1.5.0",
            "_view_name": "HTMLView",
            "description": "",
            "description_tooltip": null,
            "layout": "IPY_MODEL_9ae85ad863564966a6c06c05b8492d3f",
            "placeholder": "​",
            "style": "IPY_MODEL_dc62b29433614c44a6ceb3705922e386",
            "value": " 456k/456k [00:00&lt;00:00, 13.6MB/s]"
          }
        },
        "6699697f7abf458b978677c4972b9f9d": {
          "model_module": "@jupyter-widgets/base",
          "model_name": "LayoutModel",
          "model_module_version": "1.2.0",
          "state": {
            "_model_module": "@jupyter-widgets/base",
            "_model_module_version": "1.2.0",
            "_model_name": "LayoutModel",
            "_view_count": null,
            "_view_module": "@jupyter-widgets/base",
            "_view_module_version": "1.2.0",
            "_view_name": "LayoutView",
            "align_content": null,
            "align_items": null,
            "align_self": null,
            "border": null,
            "bottom": null,
            "display": null,
            "flex": null,
            "flex_flow": null,
            "grid_area": null,
            "grid_auto_columns": null,
            "grid_auto_flow": null,
            "grid_auto_rows": null,
            "grid_column": null,
            "grid_gap": null,
            "grid_row": null,
            "grid_template_areas": null,
            "grid_template_columns": null,
            "grid_template_rows": null,
            "height": null,
            "justify_content": null,
            "justify_items": null,
            "left": null,
            "margin": null,
            "max_height": null,
            "max_width": null,
            "min_height": null,
            "min_width": null,
            "object_fit": null,
            "object_position": null,
            "order": null,
            "overflow": null,
            "overflow_x": null,
            "overflow_y": null,
            "padding": null,
            "right": null,
            "top": null,
            "visibility": null,
            "width": null
          }
        },
        "fb1f2537f1e14ca98e4f2eb6a86c8319": {
          "model_module": "@jupyter-widgets/base",
          "model_name": "LayoutModel",
          "model_module_version": "1.2.0",
          "state": {
            "_model_module": "@jupyter-widgets/base",
            "_model_module_version": "1.2.0",
            "_model_name": "LayoutModel",
            "_view_count": null,
            "_view_module": "@jupyter-widgets/base",
            "_view_module_version": "1.2.0",
            "_view_name": "LayoutView",
            "align_content": null,
            "align_items": null,
            "align_self": null,
            "border": null,
            "bottom": null,
            "display": null,
            "flex": null,
            "flex_flow": null,
            "grid_area": null,
            "grid_auto_columns": null,
            "grid_auto_flow": null,
            "grid_auto_rows": null,
            "grid_column": null,
            "grid_gap": null,
            "grid_row": null,
            "grid_template_areas": null,
            "grid_template_columns": null,
            "grid_template_rows": null,
            "height": null,
            "justify_content": null,
            "justify_items": null,
            "left": null,
            "margin": null,
            "max_height": null,
            "max_width": null,
            "min_height": null,
            "min_width": null,
            "object_fit": null,
            "object_position": null,
            "order": null,
            "overflow": null,
            "overflow_x": null,
            "overflow_y": null,
            "padding": null,
            "right": null,
            "top": null,
            "visibility": null,
            "width": null
          }
        },
        "2fa1b1defa0f4173a168ab85314f000c": {
          "model_module": "@jupyter-widgets/controls",
          "model_name": "DescriptionStyleModel",
          "model_module_version": "1.5.0",
          "state": {
            "_model_module": "@jupyter-widgets/controls",
            "_model_module_version": "1.5.0",
            "_model_name": "DescriptionStyleModel",
            "_view_count": null,
            "_view_module": "@jupyter-widgets/base",
            "_view_module_version": "1.2.0",
            "_view_name": "StyleView",
            "description_width": ""
          }
        },
        "4328875e78b8447697a615ba112213b1": {
          "model_module": "@jupyter-widgets/base",
          "model_name": "LayoutModel",
          "model_module_version": "1.2.0",
          "state": {
            "_model_module": "@jupyter-widgets/base",
            "_model_module_version": "1.2.0",
            "_model_name": "LayoutModel",
            "_view_count": null,
            "_view_module": "@jupyter-widgets/base",
            "_view_module_version": "1.2.0",
            "_view_name": "LayoutView",
            "align_content": null,
            "align_items": null,
            "align_self": null,
            "border": null,
            "bottom": null,
            "display": null,
            "flex": null,
            "flex_flow": null,
            "grid_area": null,
            "grid_auto_columns": null,
            "grid_auto_flow": null,
            "grid_auto_rows": null,
            "grid_column": null,
            "grid_gap": null,
            "grid_row": null,
            "grid_template_areas": null,
            "grid_template_columns": null,
            "grid_template_rows": null,
            "height": null,
            "justify_content": null,
            "justify_items": null,
            "left": null,
            "margin": null,
            "max_height": null,
            "max_width": null,
            "min_height": null,
            "min_width": null,
            "object_fit": null,
            "object_position": null,
            "order": null,
            "overflow": null,
            "overflow_x": null,
            "overflow_y": null,
            "padding": null,
            "right": null,
            "top": null,
            "visibility": null,
            "width": null
          }
        },
        "4ded6a2db5cb4fe1b6cc97b4a094a03c": {
          "model_module": "@jupyter-widgets/controls",
          "model_name": "ProgressStyleModel",
          "model_module_version": "1.5.0",
          "state": {
            "_model_module": "@jupyter-widgets/controls",
            "_model_module_version": "1.5.0",
            "_model_name": "ProgressStyleModel",
            "_view_count": null,
            "_view_module": "@jupyter-widgets/base",
            "_view_module_version": "1.2.0",
            "_view_name": "StyleView",
            "bar_color": null,
            "description_width": ""
          }
        },
        "9ae85ad863564966a6c06c05b8492d3f": {
          "model_module": "@jupyter-widgets/base",
          "model_name": "LayoutModel",
          "model_module_version": "1.2.0",
          "state": {
            "_model_module": "@jupyter-widgets/base",
            "_model_module_version": "1.2.0",
            "_model_name": "LayoutModel",
            "_view_count": null,
            "_view_module": "@jupyter-widgets/base",
            "_view_module_version": "1.2.0",
            "_view_name": "LayoutView",
            "align_content": null,
            "align_items": null,
            "align_self": null,
            "border": null,
            "bottom": null,
            "display": null,
            "flex": null,
            "flex_flow": null,
            "grid_area": null,
            "grid_auto_columns": null,
            "grid_auto_flow": null,
            "grid_auto_rows": null,
            "grid_column": null,
            "grid_gap": null,
            "grid_row": null,
            "grid_template_areas": null,
            "grid_template_columns": null,
            "grid_template_rows": null,
            "height": null,
            "justify_content": null,
            "justify_items": null,
            "left": null,
            "margin": null,
            "max_height": null,
            "max_width": null,
            "min_height": null,
            "min_width": null,
            "object_fit": null,
            "object_position": null,
            "order": null,
            "overflow": null,
            "overflow_x": null,
            "overflow_y": null,
            "padding": null,
            "right": null,
            "top": null,
            "visibility": null,
            "width": null
          }
        },
        "dc62b29433614c44a6ceb3705922e386": {
          "model_module": "@jupyter-widgets/controls",
          "model_name": "DescriptionStyleModel",
          "model_module_version": "1.5.0",
          "state": {
            "_model_module": "@jupyter-widgets/controls",
            "_model_module_version": "1.5.0",
            "_model_name": "DescriptionStyleModel",
            "_view_count": null,
            "_view_module": "@jupyter-widgets/base",
            "_view_module_version": "1.2.0",
            "_view_name": "StyleView",
            "description_width": ""
          }
        },
        "0795112f87d84baeb739aa5398260802": {
          "model_module": "@jupyter-widgets/controls",
          "model_name": "HBoxModel",
          "model_module_version": "1.5.0",
          "state": {
            "_dom_classes": [],
            "_model_module": "@jupyter-widgets/controls",
            "_model_module_version": "1.5.0",
            "_model_name": "HBoxModel",
            "_view_count": null,
            "_view_module": "@jupyter-widgets/controls",
            "_view_module_version": "1.5.0",
            "_view_name": "HBoxView",
            "box_style": "",
            "children": [
              "IPY_MODEL_62874ed01e5248d193de0a5b21f45d4f",
              "IPY_MODEL_52c7bd3c31ac45e4b9e34f0c5f7fb55b",
              "IPY_MODEL_b7ef787e15b04843b3a033b685540f7a"
            ],
            "layout": "IPY_MODEL_7b6fdef37bde415e9c6eac6d4546e9e2"
          }
        },
        "62874ed01e5248d193de0a5b21f45d4f": {
          "model_module": "@jupyter-widgets/controls",
          "model_name": "HTMLModel",
          "model_module_version": "1.5.0",
          "state": {
            "_dom_classes": [],
            "_model_module": "@jupyter-widgets/controls",
            "_model_module_version": "1.5.0",
            "_model_name": "HTMLModel",
            "_view_count": null,
            "_view_module": "@jupyter-widgets/controls",
            "_view_module_version": "1.5.0",
            "_view_name": "HTMLView",
            "description": "",
            "description_tooltip": null,
            "layout": "IPY_MODEL_fe7013651d1f43e997a2cf8615f078f4",
            "placeholder": "​",
            "style": "IPY_MODEL_df8a0621f98940499efac42812f67147",
            "value": "Downloading (…)/main/tokenizer.json: 100%"
          }
        },
        "52c7bd3c31ac45e4b9e34f0c5f7fb55b": {
          "model_module": "@jupyter-widgets/controls",
          "model_name": "FloatProgressModel",
          "model_module_version": "1.5.0",
          "state": {
            "_dom_classes": [],
            "_model_module": "@jupyter-widgets/controls",
            "_model_module_version": "1.5.0",
            "_model_name": "FloatProgressModel",
            "_view_count": null,
            "_view_module": "@jupyter-widgets/controls",
            "_view_module_version": "1.5.0",
            "_view_name": "ProgressView",
            "bar_style": "success",
            "description": "",
            "description_tooltip": null,
            "layout": "IPY_MODEL_db97a05ad3da475facf3e9a638683c9c",
            "max": 1355863,
            "min": 0,
            "orientation": "horizontal",
            "style": "IPY_MODEL_93444746983e4de7954f36afd6534762",
            "value": 1355863
          }
        },
        "b7ef787e15b04843b3a033b685540f7a": {
          "model_module": "@jupyter-widgets/controls",
          "model_name": "HTMLModel",
          "model_module_version": "1.5.0",
          "state": {
            "_dom_classes": [],
            "_model_module": "@jupyter-widgets/controls",
            "_model_module_version": "1.5.0",
            "_model_name": "HTMLModel",
            "_view_count": null,
            "_view_module": "@jupyter-widgets/controls",
            "_view_module_version": "1.5.0",
            "_view_name": "HTMLView",
            "description": "",
            "description_tooltip": null,
            "layout": "IPY_MODEL_e878884bd5f5480cb09537a243c8eba6",
            "placeholder": "​",
            "style": "IPY_MODEL_20a3b7ec1cfd4c2c98fe4d3f980f2fde",
            "value": " 1.36M/1.36M [00:00&lt;00:00, 13.6MB/s]"
          }
        },
        "7b6fdef37bde415e9c6eac6d4546e9e2": {
          "model_module": "@jupyter-widgets/base",
          "model_name": "LayoutModel",
          "model_module_version": "1.2.0",
          "state": {
            "_model_module": "@jupyter-widgets/base",
            "_model_module_version": "1.2.0",
            "_model_name": "LayoutModel",
            "_view_count": null,
            "_view_module": "@jupyter-widgets/base",
            "_view_module_version": "1.2.0",
            "_view_name": "LayoutView",
            "align_content": null,
            "align_items": null,
            "align_self": null,
            "border": null,
            "bottom": null,
            "display": null,
            "flex": null,
            "flex_flow": null,
            "grid_area": null,
            "grid_auto_columns": null,
            "grid_auto_flow": null,
            "grid_auto_rows": null,
            "grid_column": null,
            "grid_gap": null,
            "grid_row": null,
            "grid_template_areas": null,
            "grid_template_columns": null,
            "grid_template_rows": null,
            "height": null,
            "justify_content": null,
            "justify_items": null,
            "left": null,
            "margin": null,
            "max_height": null,
            "max_width": null,
            "min_height": null,
            "min_width": null,
            "object_fit": null,
            "object_position": null,
            "order": null,
            "overflow": null,
            "overflow_x": null,
            "overflow_y": null,
            "padding": null,
            "right": null,
            "top": null,
            "visibility": null,
            "width": null
          }
        },
        "fe7013651d1f43e997a2cf8615f078f4": {
          "model_module": "@jupyter-widgets/base",
          "model_name": "LayoutModel",
          "model_module_version": "1.2.0",
          "state": {
            "_model_module": "@jupyter-widgets/base",
            "_model_module_version": "1.2.0",
            "_model_name": "LayoutModel",
            "_view_count": null,
            "_view_module": "@jupyter-widgets/base",
            "_view_module_version": "1.2.0",
            "_view_name": "LayoutView",
            "align_content": null,
            "align_items": null,
            "align_self": null,
            "border": null,
            "bottom": null,
            "display": null,
            "flex": null,
            "flex_flow": null,
            "grid_area": null,
            "grid_auto_columns": null,
            "grid_auto_flow": null,
            "grid_auto_rows": null,
            "grid_column": null,
            "grid_gap": null,
            "grid_row": null,
            "grid_template_areas": null,
            "grid_template_columns": null,
            "grid_template_rows": null,
            "height": null,
            "justify_content": null,
            "justify_items": null,
            "left": null,
            "margin": null,
            "max_height": null,
            "max_width": null,
            "min_height": null,
            "min_width": null,
            "object_fit": null,
            "object_position": null,
            "order": null,
            "overflow": null,
            "overflow_x": null,
            "overflow_y": null,
            "padding": null,
            "right": null,
            "top": null,
            "visibility": null,
            "width": null
          }
        },
        "df8a0621f98940499efac42812f67147": {
          "model_module": "@jupyter-widgets/controls",
          "model_name": "DescriptionStyleModel",
          "model_module_version": "1.5.0",
          "state": {
            "_model_module": "@jupyter-widgets/controls",
            "_model_module_version": "1.5.0",
            "_model_name": "DescriptionStyleModel",
            "_view_count": null,
            "_view_module": "@jupyter-widgets/base",
            "_view_module_version": "1.2.0",
            "_view_name": "StyleView",
            "description_width": ""
          }
        },
        "db97a05ad3da475facf3e9a638683c9c": {
          "model_module": "@jupyter-widgets/base",
          "model_name": "LayoutModel",
          "model_module_version": "1.2.0",
          "state": {
            "_model_module": "@jupyter-widgets/base",
            "_model_module_version": "1.2.0",
            "_model_name": "LayoutModel",
            "_view_count": null,
            "_view_module": "@jupyter-widgets/base",
            "_view_module_version": "1.2.0",
            "_view_name": "LayoutView",
            "align_content": null,
            "align_items": null,
            "align_self": null,
            "border": null,
            "bottom": null,
            "display": null,
            "flex": null,
            "flex_flow": null,
            "grid_area": null,
            "grid_auto_columns": null,
            "grid_auto_flow": null,
            "grid_auto_rows": null,
            "grid_column": null,
            "grid_gap": null,
            "grid_row": null,
            "grid_template_areas": null,
            "grid_template_columns": null,
            "grid_template_rows": null,
            "height": null,
            "justify_content": null,
            "justify_items": null,
            "left": null,
            "margin": null,
            "max_height": null,
            "max_width": null,
            "min_height": null,
            "min_width": null,
            "object_fit": null,
            "object_position": null,
            "order": null,
            "overflow": null,
            "overflow_x": null,
            "overflow_y": null,
            "padding": null,
            "right": null,
            "top": null,
            "visibility": null,
            "width": null
          }
        },
        "93444746983e4de7954f36afd6534762": {
          "model_module": "@jupyter-widgets/controls",
          "model_name": "ProgressStyleModel",
          "model_module_version": "1.5.0",
          "state": {
            "_model_module": "@jupyter-widgets/controls",
            "_model_module_version": "1.5.0",
            "_model_name": "ProgressStyleModel",
            "_view_count": null,
            "_view_module": "@jupyter-widgets/base",
            "_view_module_version": "1.2.0",
            "_view_name": "StyleView",
            "bar_color": null,
            "description_width": ""
          }
        },
        "e878884bd5f5480cb09537a243c8eba6": {
          "model_module": "@jupyter-widgets/base",
          "model_name": "LayoutModel",
          "model_module_version": "1.2.0",
          "state": {
            "_model_module": "@jupyter-widgets/base",
            "_model_module_version": "1.2.0",
            "_model_name": "LayoutModel",
            "_view_count": null,
            "_view_module": "@jupyter-widgets/base",
            "_view_module_version": "1.2.0",
            "_view_name": "LayoutView",
            "align_content": null,
            "align_items": null,
            "align_self": null,
            "border": null,
            "bottom": null,
            "display": null,
            "flex": null,
            "flex_flow": null,
            "grid_area": null,
            "grid_auto_columns": null,
            "grid_auto_flow": null,
            "grid_auto_rows": null,
            "grid_column": null,
            "grid_gap": null,
            "grid_row": null,
            "grid_template_areas": null,
            "grid_template_columns": null,
            "grid_template_rows": null,
            "height": null,
            "justify_content": null,
            "justify_items": null,
            "left": null,
            "margin": null,
            "max_height": null,
            "max_width": null,
            "min_height": null,
            "min_width": null,
            "object_fit": null,
            "object_position": null,
            "order": null,
            "overflow": null,
            "overflow_x": null,
            "overflow_y": null,
            "padding": null,
            "right": null,
            "top": null,
            "visibility": null,
            "width": null
          }
        },
        "20a3b7ec1cfd4c2c98fe4d3f980f2fde": {
          "model_module": "@jupyter-widgets/controls",
          "model_name": "DescriptionStyleModel",
          "model_module_version": "1.5.0",
          "state": {
            "_model_module": "@jupyter-widgets/controls",
            "_model_module_version": "1.5.0",
            "_model_name": "DescriptionStyleModel",
            "_view_count": null,
            "_view_module": "@jupyter-widgets/base",
            "_view_module_version": "1.2.0",
            "_view_name": "StyleView",
            "description_width": ""
          }
        },
        "a8047e64c9b54bfdb36199f87b500e78": {
          "model_module": "@jupyter-widgets/controls",
          "model_name": "HBoxModel",
          "model_module_version": "1.5.0",
          "state": {
            "_dom_classes": [],
            "_model_module": "@jupyter-widgets/controls",
            "_model_module_version": "1.5.0",
            "_model_name": "HBoxModel",
            "_view_count": null,
            "_view_module": "@jupyter-widgets/controls",
            "_view_module_version": "1.5.0",
            "_view_name": "HBoxView",
            "box_style": "",
            "children": [
              "IPY_MODEL_cb1334e0f5474d89801044f3d869feac",
              "IPY_MODEL_ab9b0f414b3346acb17c171f6c77dff0",
              "IPY_MODEL_f9583491dfc846c690c34d0909d03005"
            ],
            "layout": "IPY_MODEL_b60d5af842ca42a2bd6e2bdf209b518e"
          }
        },
        "cb1334e0f5474d89801044f3d869feac": {
          "model_module": "@jupyter-widgets/controls",
          "model_name": "HTMLModel",
          "model_module_version": "1.5.0",
          "state": {
            "_dom_classes": [],
            "_model_module": "@jupyter-widgets/controls",
            "_model_module_version": "1.5.0",
            "_model_name": "HTMLModel",
            "_view_count": null,
            "_view_module": "@jupyter-widgets/controls",
            "_view_module_version": "1.5.0",
            "_view_name": "HTMLView",
            "description": "",
            "description_tooltip": null,
            "layout": "IPY_MODEL_1bb660c39b1d4baea29c9e0b661b9237",
            "placeholder": "​",
            "style": "IPY_MODEL_ae02b0fea18448c39154370e5bbe1a03",
            "value": "Downloading model.safetensors: 100%"
          }
        },
        "ab9b0f414b3346acb17c171f6c77dff0": {
          "model_module": "@jupyter-widgets/controls",
          "model_name": "FloatProgressModel",
          "model_module_version": "1.5.0",
          "state": {
            "_dom_classes": [],
            "_model_module": "@jupyter-widgets/controls",
            "_model_module_version": "1.5.0",
            "_model_name": "FloatProgressModel",
            "_view_count": null,
            "_view_module": "@jupyter-widgets/controls",
            "_view_module_version": "1.5.0",
            "_view_name": "ProgressView",
            "bar_style": "success",
            "description": "",
            "description_tooltip": null,
            "layout": "IPY_MODEL_673c840137db4a83b55300c63a6b34c1",
            "max": 498818054,
            "min": 0,
            "orientation": "horizontal",
            "style": "IPY_MODEL_7d8f0ff0b1f74c47942863ce4f9c50d3",
            "value": 498818054
          }
        },
        "f9583491dfc846c690c34d0909d03005": {
          "model_module": "@jupyter-widgets/controls",
          "model_name": "HTMLModel",
          "model_module_version": "1.5.0",
          "state": {
            "_dom_classes": [],
            "_model_module": "@jupyter-widgets/controls",
            "_model_module_version": "1.5.0",
            "_model_name": "HTMLModel",
            "_view_count": null,
            "_view_module": "@jupyter-widgets/controls",
            "_view_module_version": "1.5.0",
            "_view_name": "HTMLView",
            "description": "",
            "description_tooltip": null,
            "layout": "IPY_MODEL_fe0c0a600be4437d8b5c59116e67a92c",
            "placeholder": "​",
            "style": "IPY_MODEL_d13c440a1b0e4ba3aef5b73b0ce4a544",
            "value": " 499M/499M [00:05&lt;00:00, 81.4MB/s]"
          }
        },
        "b60d5af842ca42a2bd6e2bdf209b518e": {
          "model_module": "@jupyter-widgets/base",
          "model_name": "LayoutModel",
          "model_module_version": "1.2.0",
          "state": {
            "_model_module": "@jupyter-widgets/base",
            "_model_module_version": "1.2.0",
            "_model_name": "LayoutModel",
            "_view_count": null,
            "_view_module": "@jupyter-widgets/base",
            "_view_module_version": "1.2.0",
            "_view_name": "LayoutView",
            "align_content": null,
            "align_items": null,
            "align_self": null,
            "border": null,
            "bottom": null,
            "display": null,
            "flex": null,
            "flex_flow": null,
            "grid_area": null,
            "grid_auto_columns": null,
            "grid_auto_flow": null,
            "grid_auto_rows": null,
            "grid_column": null,
            "grid_gap": null,
            "grid_row": null,
            "grid_template_areas": null,
            "grid_template_columns": null,
            "grid_template_rows": null,
            "height": null,
            "justify_content": null,
            "justify_items": null,
            "left": null,
            "margin": null,
            "max_height": null,
            "max_width": null,
            "min_height": null,
            "min_width": null,
            "object_fit": null,
            "object_position": null,
            "order": null,
            "overflow": null,
            "overflow_x": null,
            "overflow_y": null,
            "padding": null,
            "right": null,
            "top": null,
            "visibility": null,
            "width": null
          }
        },
        "1bb660c39b1d4baea29c9e0b661b9237": {
          "model_module": "@jupyter-widgets/base",
          "model_name": "LayoutModel",
          "model_module_version": "1.2.0",
          "state": {
            "_model_module": "@jupyter-widgets/base",
            "_model_module_version": "1.2.0",
            "_model_name": "LayoutModel",
            "_view_count": null,
            "_view_module": "@jupyter-widgets/base",
            "_view_module_version": "1.2.0",
            "_view_name": "LayoutView",
            "align_content": null,
            "align_items": null,
            "align_self": null,
            "border": null,
            "bottom": null,
            "display": null,
            "flex": null,
            "flex_flow": null,
            "grid_area": null,
            "grid_auto_columns": null,
            "grid_auto_flow": null,
            "grid_auto_rows": null,
            "grid_column": null,
            "grid_gap": null,
            "grid_row": null,
            "grid_template_areas": null,
            "grid_template_columns": null,
            "grid_template_rows": null,
            "height": null,
            "justify_content": null,
            "justify_items": null,
            "left": null,
            "margin": null,
            "max_height": null,
            "max_width": null,
            "min_height": null,
            "min_width": null,
            "object_fit": null,
            "object_position": null,
            "order": null,
            "overflow": null,
            "overflow_x": null,
            "overflow_y": null,
            "padding": null,
            "right": null,
            "top": null,
            "visibility": null,
            "width": null
          }
        },
        "ae02b0fea18448c39154370e5bbe1a03": {
          "model_module": "@jupyter-widgets/controls",
          "model_name": "DescriptionStyleModel",
          "model_module_version": "1.5.0",
          "state": {
            "_model_module": "@jupyter-widgets/controls",
            "_model_module_version": "1.5.0",
            "_model_name": "DescriptionStyleModel",
            "_view_count": null,
            "_view_module": "@jupyter-widgets/base",
            "_view_module_version": "1.2.0",
            "_view_name": "StyleView",
            "description_width": ""
          }
        },
        "673c840137db4a83b55300c63a6b34c1": {
          "model_module": "@jupyter-widgets/base",
          "model_name": "LayoutModel",
          "model_module_version": "1.2.0",
          "state": {
            "_model_module": "@jupyter-widgets/base",
            "_model_module_version": "1.2.0",
            "_model_name": "LayoutModel",
            "_view_count": null,
            "_view_module": "@jupyter-widgets/base",
            "_view_module_version": "1.2.0",
            "_view_name": "LayoutView",
            "align_content": null,
            "align_items": null,
            "align_self": null,
            "border": null,
            "bottom": null,
            "display": null,
            "flex": null,
            "flex_flow": null,
            "grid_area": null,
            "grid_auto_columns": null,
            "grid_auto_flow": null,
            "grid_auto_rows": null,
            "grid_column": null,
            "grid_gap": null,
            "grid_row": null,
            "grid_template_areas": null,
            "grid_template_columns": null,
            "grid_template_rows": null,
            "height": null,
            "justify_content": null,
            "justify_items": null,
            "left": null,
            "margin": null,
            "max_height": null,
            "max_width": null,
            "min_height": null,
            "min_width": null,
            "object_fit": null,
            "object_position": null,
            "order": null,
            "overflow": null,
            "overflow_x": null,
            "overflow_y": null,
            "padding": null,
            "right": null,
            "top": null,
            "visibility": null,
            "width": null
          }
        },
        "7d8f0ff0b1f74c47942863ce4f9c50d3": {
          "model_module": "@jupyter-widgets/controls",
          "model_name": "ProgressStyleModel",
          "model_module_version": "1.5.0",
          "state": {
            "_model_module": "@jupyter-widgets/controls",
            "_model_module_version": "1.5.0",
            "_model_name": "ProgressStyleModel",
            "_view_count": null,
            "_view_module": "@jupyter-widgets/base",
            "_view_module_version": "1.2.0",
            "_view_name": "StyleView",
            "bar_color": null,
            "description_width": ""
          }
        },
        "fe0c0a600be4437d8b5c59116e67a92c": {
          "model_module": "@jupyter-widgets/base",
          "model_name": "LayoutModel",
          "model_module_version": "1.2.0",
          "state": {
            "_model_module": "@jupyter-widgets/base",
            "_model_module_version": "1.2.0",
            "_model_name": "LayoutModel",
            "_view_count": null,
            "_view_module": "@jupyter-widgets/base",
            "_view_module_version": "1.2.0",
            "_view_name": "LayoutView",
            "align_content": null,
            "align_items": null,
            "align_self": null,
            "border": null,
            "bottom": null,
            "display": null,
            "flex": null,
            "flex_flow": null,
            "grid_area": null,
            "grid_auto_columns": null,
            "grid_auto_flow": null,
            "grid_auto_rows": null,
            "grid_column": null,
            "grid_gap": null,
            "grid_row": null,
            "grid_template_areas": null,
            "grid_template_columns": null,
            "grid_template_rows": null,
            "height": null,
            "justify_content": null,
            "justify_items": null,
            "left": null,
            "margin": null,
            "max_height": null,
            "max_width": null,
            "min_height": null,
            "min_width": null,
            "object_fit": null,
            "object_position": null,
            "order": null,
            "overflow": null,
            "overflow_x": null,
            "overflow_y": null,
            "padding": null,
            "right": null,
            "top": null,
            "visibility": null,
            "width": null
          }
        },
        "d13c440a1b0e4ba3aef5b73b0ce4a544": {
          "model_module": "@jupyter-widgets/controls",
          "model_name": "DescriptionStyleModel",
          "model_module_version": "1.5.0",
          "state": {
            "_model_module": "@jupyter-widgets/controls",
            "_model_module_version": "1.5.0",
            "_model_name": "DescriptionStyleModel",
            "_view_count": null,
            "_view_module": "@jupyter-widgets/base",
            "_view_module_version": "1.2.0",
            "_view_name": "StyleView",
            "description_width": ""
          }
        }
      }
    }
  },
  "cells": [
    {
      "cell_type": "code",
      "source": [
        "!pip install transformers\n",
        "import tensorflow as tf\n",
        "import numpy as np\n",
        "import pandas as pd\n",
        "import sklearn\n",
        "import torch\n",
        "from sklearn import metrics\n",
        "import transformers\n",
        "from transformers import AutoTokenizer, TFAutoModelForSequenceClassification\n",
        "import json"
      ],
      "metadata": {
        "colab": {
          "base_uri": "https://localhost:8080/"
        },
        "id": "KNZ8XobcLCgo",
        "outputId": "8d7e0302-99f9-405a-9c38-0e374677087e"
      },
      "execution_count": 1,
      "outputs": [
        {
          "output_type": "stream",
          "name": "stdout",
          "text": [
            "Collecting transformers\n",
            "  Downloading transformers-4.30.2-py3-none-any.whl (7.2 MB)\n",
            "\u001b[2K     \u001b[90m━━━━━━━━━━━━━━━━━━━━━━━━━━━━━━━━━━━━━━━━\u001b[0m \u001b[32m7.2/7.2 MB\u001b[0m \u001b[31m58.0 MB/s\u001b[0m eta \u001b[36m0:00:00\u001b[0m\n",
            "\u001b[?25hRequirement already satisfied: filelock in /usr/local/lib/python3.10/dist-packages (from transformers) (3.12.2)\n",
            "Collecting huggingface-hub<1.0,>=0.14.1 (from transformers)\n",
            "  Downloading huggingface_hub-0.16.4-py3-none-any.whl (268 kB)\n",
            "\u001b[2K     \u001b[90m━━━━━━━━━━━━━━━━━━━━━━━━━━━━━━━━━━━━━━\u001b[0m \u001b[32m268.8/268.8 kB\u001b[0m \u001b[31m27.6 MB/s\u001b[0m eta \u001b[36m0:00:00\u001b[0m\n",
            "\u001b[?25hRequirement already satisfied: numpy>=1.17 in /usr/local/lib/python3.10/dist-packages (from transformers) (1.25.1)\n",
            "Requirement already satisfied: packaging>=20.0 in /usr/local/lib/python3.10/dist-packages (from transformers) (23.1)\n",
            "Requirement already satisfied: pyyaml>=5.1 in /usr/local/lib/python3.10/dist-packages (from transformers) (6.0)\n",
            "Requirement already satisfied: regex!=2019.12.17 in /usr/local/lib/python3.10/dist-packages (from transformers) (2022.10.31)\n",
            "Requirement already satisfied: requests in /usr/local/lib/python3.10/dist-packages (from transformers) (2.27.1)\n",
            "Collecting tokenizers!=0.11.3,<0.14,>=0.11.1 (from transformers)\n",
            "  Downloading tokenizers-0.13.3-cp310-cp310-manylinux_2_17_x86_64.manylinux2014_x86_64.whl (7.8 MB)\n",
            "\u001b[2K     \u001b[90m━━━━━━━━━━━━━━━━━━━━━━━━━━━━━━━━━━━━━━━━\u001b[0m \u001b[32m7.8/7.8 MB\u001b[0m \u001b[31m94.8 MB/s\u001b[0m eta \u001b[36m0:00:00\u001b[0m\n",
            "\u001b[?25hCollecting safetensors>=0.3.1 (from transformers)\n",
            "  Downloading safetensors-0.3.1-cp310-cp310-manylinux_2_17_x86_64.manylinux2014_x86_64.whl (1.3 MB)\n",
            "\u001b[2K     \u001b[90m━━━━━━━━━━━━━━━━━━━━━━━━━━━━━━━━━━━━━━━━\u001b[0m \u001b[32m1.3/1.3 MB\u001b[0m \u001b[31m60.6 MB/s\u001b[0m eta \u001b[36m0:00:00\u001b[0m\n",
            "\u001b[?25hRequirement already satisfied: tqdm>=4.27 in /usr/local/lib/python3.10/dist-packages (from transformers) (4.65.0)\n",
            "Requirement already satisfied: fsspec in /usr/local/lib/python3.10/dist-packages (from huggingface-hub<1.0,>=0.14.1->transformers) (2023.6.0)\n",
            "Requirement already satisfied: typing-extensions>=3.7.4.3 in /usr/local/lib/python3.10/dist-packages (from huggingface-hub<1.0,>=0.14.1->transformers) (4.7.1)\n",
            "Requirement already satisfied: urllib3<1.27,>=1.21.1 in /usr/local/lib/python3.10/dist-packages (from requests->transformers) (1.26.16)\n",
            "Requirement already satisfied: certifi>=2017.4.17 in /usr/local/lib/python3.10/dist-packages (from requests->transformers) (2023.5.7)\n",
            "Requirement already satisfied: charset-normalizer~=2.0.0 in /usr/local/lib/python3.10/dist-packages (from requests->transformers) (2.0.12)\n",
            "Requirement already satisfied: idna<4,>=2.5 in /usr/local/lib/python3.10/dist-packages (from requests->transformers) (3.4)\n",
            "Installing collected packages: tokenizers, safetensors, huggingface-hub, transformers\n",
            "Successfully installed huggingface-hub-0.16.4 safetensors-0.3.1 tokenizers-0.13.3 transformers-4.30.2\n"
          ]
        }
      ]
    },
    {
      "cell_type": "markdown",
      "source": [
        "## Set up TPU and prepare data:"
      ],
      "metadata": {
        "id": "3moF-8BH5jOn"
      }
    },
    {
      "cell_type": "code",
      "execution_count": 2,
      "metadata": {
        "id": "Ns3u64biKZ2p"
      },
      "outputs": [],
      "source": [
        "# Using the template in: News classification: fine-tuning RoBERTa on TPUs with TensorFlow:\n",
        "## https://towardsdatascience.com/news-category-classification-fine-tuning-roberta-on-tpus-with-tensorflow-f057c37b093\n"
      ]
    },
    {
      "cell_type": "code",
      "source": [
        "# Detect and initialize the TPU, as done in article above:\n",
        "tpu = tf.distribute.cluster_resolver.TPUClusterResolver()\n",
        "tf.config.experimental_connect_to_cluster(tpu)\n",
        "tf.tpu.experimental.initialize_tpu_system(tpu)\n",
        "tpu_strategy = tf.distribute.TPUStrategy(tpu)\n",
        "\n",
        "batch_size=32 * tpu_strategy.num_replicas_in_sync\n",
        "print('Batch size:', batch_size)\n"
      ],
      "metadata": {
        "colab": {
          "base_uri": "https://localhost:8080/"
        },
        "id": "FQ8rJ5Z9jtZh",
        "outputId": "3a3a17d0-884e-4ad3-82b0-4b413fdcc7bf"
      },
      "execution_count": 3,
      "outputs": [
        {
          "output_type": "stream",
          "name": "stdout",
          "text": [
            "Batch size: 256\n"
          ]
        }
      ]
    },
    {
      "cell_type": "code",
      "source": [
        "from google.colab import drive\n",
        "drive.mount('/content/drive')"
      ],
      "metadata": {
        "colab": {
          "base_uri": "https://localhost:8080/"
        },
        "id": "4TOCGbuyMd1G",
        "outputId": "1f257e85-19cb-4546-de60-6bafca538bf3"
      },
      "execution_count": 4,
      "outputs": [
        {
          "output_type": "stream",
          "name": "stdout",
          "text": [
            "Mounted at /content/drive\n"
          ]
        }
      ]
    },
    {
      "cell_type": "code",
      "source": [
        "# LOAD BOOKING77-OOS:\n",
        "\n",
        "dataset_path = \"drive/My Drive/Colab Notebooks/BANKING77-OOS/\"\n",
        "!ls \"drive/My Drive/Colab Notebooks/BANKING77-OOS/\""
      ],
      "metadata": {
        "colab": {
          "base_uri": "https://localhost:8080/"
        },
        "id": "g_2TvDQfhbUy",
        "outputId": "69aeb811-6027-42dc-c0d4-024fad7865cd"
      },
      "execution_count": 5,
      "outputs": [
        {
          "output_type": "stream",
          "name": "stdout",
          "text": [
            "test  train  val\n"
          ]
        }
      ]
    },
    {
      "cell_type": "code",
      "source": [
        "# Create a dataframe with all training, testing and validation data in it:\n",
        "# Later on, a train-val divide will occur:\n",
        "seq_data = []\n",
        "label_data = []\n",
        "\n",
        "for filetype in ['test', 'val', 'train']:\n",
        "\n",
        "    with open(dataset_path + filetype + \"/seq.in\", 'r', newline=\"\\n\") as seq_file:\n",
        "        for line in seq_file:\n",
        "          seq_data.append(line.strip())\n",
        "\n",
        "    with open(dataset_path + filetype + \"/label.txt\", 'r', newline=\"\\n\") as label_file:\n",
        "        for line in label_file:\n",
        "          label_data.append(line.strip())\n",
        "\n",
        "    dataset = pd.DataFrame(list(zip(seq_data, label_data)),\n",
        "               columns =['utterance', 'label'])\n"
      ],
      "metadata": {
        "id": "b2gqdz50uKHw"
      },
      "execution_count": 6,
      "outputs": []
    },
    {
      "cell_type": "code",
      "source": [
        "labels = list(dataset.label)\n",
        "categories=sorted(list(set(labels)))\n",
        "n_categories=len(categories)"
      ],
      "metadata": {
        "id": "k1xmKPWbuyq0"
      },
      "execution_count": 7,
      "outputs": []
    },
    {
      "cell_type": "code",
      "source": [
        "# Number of categories/classes:\n",
        "len(categories)"
      ],
      "metadata": {
        "colab": {
          "base_uri": "https://localhost:8080/"
        },
        "id": "wDwz_Ps-u3ri",
        "outputId": "9145712f-f026-4b74-f92d-69e11b413a17"
      },
      "execution_count": 8,
      "outputs": [
        {
          "output_type": "execute_result",
          "data": {
            "text/plain": [
              "50"
            ]
          },
          "metadata": {},
          "execution_count": 8
        }
      ]
    },
    {
      "cell_type": "code",
      "source": [
        "# Training data summary:\n",
        "for cat in categories:\n",
        "    print(\"Category: {}, # utterances: {}\".format(cat,len(dataset[dataset.label==cat])))\n",
        "\n",
        "print(\"Total utterances: {}\".format(len(dataset.label)))"
      ],
      "metadata": {
        "colab": {
          "base_uri": "https://localhost:8080/"
        },
        "id": "nir-lV6Ju5KI",
        "outputId": "338c196b-f8fe-4856-c340-fac5c45afb49"
      },
      "execution_count": 9,
      "outputs": [
        {
          "output_type": "stream",
          "name": "stdout",
          "text": [
            "Category: Refund_not_showing_up, # utterances: 202\n",
            "Category: activate_my_card, # utterances: 199\n",
            "Category: apple_pay_or_google_pay, # utterances: 166\n",
            "Category: automatic_top_up, # utterances: 167\n",
            "Category: balance_not_updated_after_bank_transfer, # utterances: 211\n",
            "Category: balance_not_updated_after_cheque_or_cash_deposit, # utterances: 221\n",
            "Category: beneficiary_not_allowed, # utterances: 196\n",
            "Category: cancel_transfer, # utterances: 197\n",
            "Category: card_about_to_expire, # utterances: 169\n",
            "Category: card_arrival, # utterances: 193\n",
            "Category: card_linking, # utterances: 179\n",
            "Category: card_payment_fee_charged, # utterances: 227\n",
            "Category: card_payment_not_recognised, # utterances: 208\n",
            "Category: card_payment_wrong_exchange_rate, # utterances: 207\n",
            "Category: cash_withdrawal_charge, # utterances: 217\n",
            "Category: cash_withdrawal_not_recognised, # utterances: 200\n",
            "Category: change_pin, # utterances: 162\n",
            "Category: country_support, # utterances: 169\n",
            "Category: declined_card_payment, # utterances: 193\n",
            "Category: declined_cash_withdrawal, # utterances: 213\n",
            "Category: declined_transfer, # utterances: 173\n",
            "Category: direct_debit_payment_not_recognised, # utterances: 222\n",
            "Category: disposable_card_limits, # utterances: 161\n",
            "Category: edit_personal_details, # utterances: 161\n",
            "Category: exchange_charge, # utterances: 161\n",
            "Category: exchange_via_app, # utterances: 158\n",
            "Category: extra_charge_on_statement, # utterances: 206\n",
            "Category: failed_transfer, # utterances: 177\n",
            "Category: fiat_currency_support, # utterances: 166\n",
            "Category: getting_spare_card, # utterances: 169\n",
            "Category: lost_or_stolen_phone, # utterances: 161\n",
            "Category: order_physical_card, # utterances: 160\n",
            "Category: pending_card_payment, # utterances: 199\n",
            "Category: pending_cash_withdrawal, # utterances: 183\n",
            "Category: pending_top_up, # utterances: 189\n",
            "Category: pending_transfer, # utterances: 188\n",
            "Category: request_refund, # utterances: 209\n",
            "Category: reverted_card_payment?, # utterances: 201\n",
            "Category: supported_cards_and_currencies, # utterances: 169\n",
            "Category: top_up_failed, # utterances: 185\n",
            "Category: top_up_reverted, # utterances: 186\n",
            "Category: transaction_charged_twice, # utterances: 215\n",
            "Category: transfer_fee_charged, # utterances: 212\n",
            "Category: transfer_not_received_by_recipient, # utterances: 211\n",
            "Category: transfer_timing, # utterances: 168\n",
            "Category: verify_top_up, # utterances: 166\n",
            "Category: visa_or_mastercard, # utterances: 175\n",
            "Category: why_verify_identity, # utterances: 161\n",
            "Category: wrong_amount_of_cash_received, # utterances: 220\n",
            "Category: wrong_exchange_rate_for_cash_withdrawal, # utterances: 203\n",
            "Total utterances: 9411\n"
          ]
        }
      ]
    },
    {
      "cell_type": "code",
      "source": [
        "# Create a label-to-index map:\n",
        "label_to_ix = {}\n",
        "for cat in categories:\n",
        "    for word in cat.split():\n",
        "        if word not in label_to_ix:\n",
        "            label_to_ix[word]=len(label_to_ix)\n",
        "label_to_ix"
      ],
      "metadata": {
        "colab": {
          "base_uri": "https://localhost:8080/"
        },
        "id": "POdLftwOvEoA",
        "outputId": "2ed9244b-50e9-449f-e0a8-13fc63ce01a9"
      },
      "execution_count": 10,
      "outputs": [
        {
          "output_type": "execute_result",
          "data": {
            "text/plain": [
              "{'Refund_not_showing_up': 0,\n",
              " 'activate_my_card': 1,\n",
              " 'apple_pay_or_google_pay': 2,\n",
              " 'automatic_top_up': 3,\n",
              " 'balance_not_updated_after_bank_transfer': 4,\n",
              " 'balance_not_updated_after_cheque_or_cash_deposit': 5,\n",
              " 'beneficiary_not_allowed': 6,\n",
              " 'cancel_transfer': 7,\n",
              " 'card_about_to_expire': 8,\n",
              " 'card_arrival': 9,\n",
              " 'card_linking': 10,\n",
              " 'card_payment_fee_charged': 11,\n",
              " 'card_payment_not_recognised': 12,\n",
              " 'card_payment_wrong_exchange_rate': 13,\n",
              " 'cash_withdrawal_charge': 14,\n",
              " 'cash_withdrawal_not_recognised': 15,\n",
              " 'change_pin': 16,\n",
              " 'country_support': 17,\n",
              " 'declined_card_payment': 18,\n",
              " 'declined_cash_withdrawal': 19,\n",
              " 'declined_transfer': 20,\n",
              " 'direct_debit_payment_not_recognised': 21,\n",
              " 'disposable_card_limits': 22,\n",
              " 'edit_personal_details': 23,\n",
              " 'exchange_charge': 24,\n",
              " 'exchange_via_app': 25,\n",
              " 'extra_charge_on_statement': 26,\n",
              " 'failed_transfer': 27,\n",
              " 'fiat_currency_support': 28,\n",
              " 'getting_spare_card': 29,\n",
              " 'lost_or_stolen_phone': 30,\n",
              " 'order_physical_card': 31,\n",
              " 'pending_card_payment': 32,\n",
              " 'pending_cash_withdrawal': 33,\n",
              " 'pending_top_up': 34,\n",
              " 'pending_transfer': 35,\n",
              " 'request_refund': 36,\n",
              " 'reverted_card_payment?': 37,\n",
              " 'supported_cards_and_currencies': 38,\n",
              " 'top_up_failed': 39,\n",
              " 'top_up_reverted': 40,\n",
              " 'transaction_charged_twice': 41,\n",
              " 'transfer_fee_charged': 42,\n",
              " 'transfer_not_received_by_recipient': 43,\n",
              " 'transfer_timing': 44,\n",
              " 'verify_top_up': 45,\n",
              " 'visa_or_mastercard': 46,\n",
              " 'why_verify_identity': 47,\n",
              " 'wrong_amount_of_cash_received': 48,\n",
              " 'wrong_exchange_rate_for_cash_withdrawal': 49}"
            ]
          },
          "metadata": {},
          "execution_count": 10
        }
      ]
    },
    {
      "cell_type": "code",
      "source": [
        "def indicize_labels(labels):\n",
        "    \"\"\"Transforms categorical labels into indices\"\"\"\n",
        "    indices=[]\n",
        "    for j in range(len(labels)):\n",
        "      indices.append(label_to_ix[labels[j]])\n",
        "    return indices"
      ],
      "metadata": {
        "id": "Ogo6zMI2v2rW"
      },
      "execution_count": 11,
      "outputs": []
    },
    {
      "cell_type": "code",
      "source": [
        "n_elements = len(indicize_labels(labels))"
      ],
      "metadata": {
        "id": "W1sZMsn2wDMP"
      },
      "execution_count": 12,
      "outputs": []
    },
    {
      "cell_type": "code",
      "source": [
        "indices = indicize_labels(labels)\n",
        "texts = list(dataset.utterance)"
      ],
      "metadata": {
        "id": "DLNXfIQ4wK39"
      },
      "execution_count": 13,
      "outputs": []
    },
    {
      "cell_type": "code",
      "source": [
        "# View example:\n",
        "texts[1345]"
      ],
      "metadata": {
        "colab": {
          "base_uri": "https://localhost:8080/",
          "height": 35
        },
        "id": "RyW8VHOneihe",
        "outputId": "9786832b-b8ea-441f-95e6-e5d2de6591da"
      },
      "execution_count": 14,
      "outputs": [
        {
          "output_type": "execute_result",
          "data": {
            "text/plain": [
              "'i am travelling for two more weeks but really need to change my pin asap. what do i do?'"
            ],
            "application/vnd.google.colaboratory.intrinsic+json": {
              "type": "string"
            }
          },
          "metadata": {},
          "execution_count": 14
        }
      ]
    },
    {
      "cell_type": "code",
      "source": [
        "labels[1345]"
      ],
      "metadata": {
        "colab": {
          "base_uri": "https://localhost:8080/",
          "height": 35
        },
        "id": "s7YEk7n77xm1",
        "outputId": "50568851-51ed-43c1-e3e7-5fa809a3eff1"
      },
      "execution_count": 15,
      "outputs": [
        {
          "output_type": "execute_result",
          "data": {
            "text/plain": [
              "'change_pin'"
            ],
            "application/vnd.google.colaboratory.intrinsic+json": {
              "type": "string"
            }
          },
          "metadata": {},
          "execution_count": 15
        }
      ]
    },
    {
      "cell_type": "code",
      "source": [
        "label_to_ix[labels[1345]]"
      ],
      "metadata": {
        "colab": {
          "base_uri": "https://localhost:8080/"
        },
        "id": "FdAgJtK2erHC",
        "outputId": "e67aa3f6-21aa-4a52-a850-c4d081c33269"
      },
      "execution_count": 16,
      "outputs": [
        {
          "output_type": "execute_result",
          "data": {
            "text/plain": [
              "16"
            ]
          },
          "metadata": {},
          "execution_count": 16
        }
      ]
    },
    {
      "cell_type": "code",
      "source": [
        "indices[1345]"
      ],
      "metadata": {
        "colab": {
          "base_uri": "https://localhost:8080/"
        },
        "id": "ZTXEr0xIfF_s",
        "outputId": "20c02e52-ad31-4dc2-a14d-23b92da905f1"
      },
      "execution_count": 17,
      "outputs": [
        {
          "output_type": "execute_result",
          "data": {
            "text/plain": [
              "16"
            ]
          },
          "metadata": {},
          "execution_count": 17
        }
      ]
    },
    {
      "cell_type": "code",
      "source": [
        "# Tokenize texts:\n",
        "tokenizer = AutoTokenizer.from_pretrained(\"roberta-base\")\n",
        "#tokenizer = AutoTokenizer.from_pretrained(\"bert-base-uncased\")\n",
        "inputs = tokenizer(texts, padding=True, truncation=True, return_tensors='tf')\n"
      ],
      "metadata": {
        "colab": {
          "base_uri": "https://localhost:8080/",
          "height": 145,
          "referenced_widgets": [
            "387216b1ffee401ab3eae3df8cf581f0",
            "0756056b0d85434fa8a75d4ab8cdfd34",
            "88abbce066194e109481591049cb6d3d",
            "776742f64e1e40b99418c8fdb05e2602",
            "1b9c5562929b41699dceca1042af25d6",
            "efd57b04bcc145f4afe505b1347851e3",
            "68d41a1d4efe4be0b121047bd392a663",
            "bf82c65bdbea402fa4ffb11acd2c0daa",
            "71da87c3f2564508af2e06a57413aa0c",
            "d710854311894fd4a3f7ca5d8ef1a630",
            "8c11a9f2a666443f99a47145f54c536d",
            "808216e9fbb648d0a1a127fe62295387",
            "103bdc4a911f438b838567006cd81dc7",
            "d3e1820e6d754bf296e6c92bf320d16d",
            "cc9591bb7746405694d0362509d3232d",
            "ee7bfde86fd54b5b8186c607978f3b4d",
            "9565813ba5f0400bab54b6c2cedcaac4",
            "39c0f0e30ec04259a5358ee37b958fdd",
            "6acd9df38ad74b4eb20c3ebf00e9a74f",
            "d4276167dfae49dda1094373a5d1ca2d",
            "d127a300fd534fdca317dcefb6d3df75",
            "cf0e0b1ef11241d186cab49788520c44",
            "5b4f7aeac5aa402faa6ad0596c5e5af9",
            "5dded9d7f6114ae1bde81dd91f36b598",
            "1eb168a241d543dfbdada87cd7bc5db9",
            "af52f84b609647238abfe0a7c1929ee2",
            "6699697f7abf458b978677c4972b9f9d",
            "fb1f2537f1e14ca98e4f2eb6a86c8319",
            "2fa1b1defa0f4173a168ab85314f000c",
            "4328875e78b8447697a615ba112213b1",
            "4ded6a2db5cb4fe1b6cc97b4a094a03c",
            "9ae85ad863564966a6c06c05b8492d3f",
            "dc62b29433614c44a6ceb3705922e386",
            "0795112f87d84baeb739aa5398260802",
            "62874ed01e5248d193de0a5b21f45d4f",
            "52c7bd3c31ac45e4b9e34f0c5f7fb55b",
            "b7ef787e15b04843b3a033b685540f7a",
            "7b6fdef37bde415e9c6eac6d4546e9e2",
            "fe7013651d1f43e997a2cf8615f078f4",
            "df8a0621f98940499efac42812f67147",
            "db97a05ad3da475facf3e9a638683c9c",
            "93444746983e4de7954f36afd6534762",
            "e878884bd5f5480cb09537a243c8eba6",
            "20a3b7ec1cfd4c2c98fe4d3f980f2fde"
          ]
        },
        "id": "LG93lgcewOD2",
        "outputId": "7b249041-82e3-4cc4-a6e1-fc99b0ea8fa8"
      },
      "execution_count": 18,
      "outputs": [
        {
          "output_type": "display_data",
          "data": {
            "text/plain": [
              "Downloading (…)lve/main/config.json:   0%|          | 0.00/481 [00:00<?, ?B/s]"
            ],
            "application/vnd.jupyter.widget-view+json": {
              "version_major": 2,
              "version_minor": 0,
              "model_id": "387216b1ffee401ab3eae3df8cf581f0"
            }
          },
          "metadata": {}
        },
        {
          "output_type": "display_data",
          "data": {
            "text/plain": [
              "Downloading (…)olve/main/vocab.json:   0%|          | 0.00/899k [00:00<?, ?B/s]"
            ],
            "application/vnd.jupyter.widget-view+json": {
              "version_major": 2,
              "version_minor": 0,
              "model_id": "808216e9fbb648d0a1a127fe62295387"
            }
          },
          "metadata": {}
        },
        {
          "output_type": "display_data",
          "data": {
            "text/plain": [
              "Downloading (…)olve/main/merges.txt:   0%|          | 0.00/456k [00:00<?, ?B/s]"
            ],
            "application/vnd.jupyter.widget-view+json": {
              "version_major": 2,
              "version_minor": 0,
              "model_id": "5b4f7aeac5aa402faa6ad0596c5e5af9"
            }
          },
          "metadata": {}
        },
        {
          "output_type": "display_data",
          "data": {
            "text/plain": [
              "Downloading (…)/main/tokenizer.json:   0%|          | 0.00/1.36M [00:00<?, ?B/s]"
            ],
            "application/vnd.jupyter.widget-view+json": {
              "version_major": 2,
              "version_minor": 0,
              "model_id": "0795112f87d84baeb739aa5398260802"
            }
          },
          "metadata": {}
        }
      ]
    },
    {
      "cell_type": "code",
      "source": [
        "# Create tensorflow datasets with a 10% split for validation:\n",
        "dataset=tf.data.Dataset.from_tensor_slices((dict(inputs), indices))\n",
        "\n",
        "val_size=int(0.1*n_elements)\n",
        "val_ds=dataset.take(val_size).batch(batch_size, drop_remainder=True)\n",
        "train_ds=dataset.skip(val_size).batch(batch_size, drop_remainder=True)"
      ],
      "metadata": {
        "id": "mBNHdjV8wOo_"
      },
      "execution_count": 19,
      "outputs": []
    },
    {
      "cell_type": "markdown",
      "source": [
        "## Build training loop using RoBERTa base model (with TPU):"
      ],
      "metadata": {
        "id": "6kr1Rsxr81Yk"
      }
    },
    {
      "cell_type": "code",
      "source": [
        "with tpu_strategy.scope():\n",
        "  model_name = \"roberta-base\"\n",
        "  model = TFAutoModelForSequenceClassification.from_pretrained(model_name, num_labels=n_categories)\n",
        "  #model = TFAutoModelForSequenceClassification.from_pretrained(\"bert-base-uncased\", num_labels=n_categories)\n",
        "  model.compile(\n",
        "        optimizer=tf.keras.optimizers.Adam(learning_rate=1e-5, clipnorm=1.),\n",
        "        loss=tf.keras.losses.SparseCategoricalCrossentropy(from_logits=True),\n",
        "        metrics=[tf.metrics.SparseCategoricalAccuracy(),tf.keras.metrics.SparseTopKCategoricalAccuracy(k=3, name='Sparse_Top_3_Categorical_Accuracy')],\n",
        "        )\n",
        "\n",
        "model.fit(train_ds, validation_data=val_ds, epochs=60, verbose=1)\n",
        "\n",
        "model.save_weights(f'./saved_weights_{model_name}_booking77-oos.h5')"
      ],
      "metadata": {
        "colab": {
          "base_uri": "https://localhost:8080/",
          "height": 1000,
          "referenced_widgets": [
            "a8047e64c9b54bfdb36199f87b500e78",
            "cb1334e0f5474d89801044f3d869feac",
            "ab9b0f414b3346acb17c171f6c77dff0",
            "f9583491dfc846c690c34d0909d03005",
            "b60d5af842ca42a2bd6e2bdf209b518e",
            "1bb660c39b1d4baea29c9e0b661b9237",
            "ae02b0fea18448c39154370e5bbe1a03",
            "673c840137db4a83b55300c63a6b34c1",
            "7d8f0ff0b1f74c47942863ce4f9c50d3",
            "fe0c0a600be4437d8b5c59116e67a92c",
            "d13c440a1b0e4ba3aef5b73b0ce4a544"
          ]
        },
        "id": "bVlpX-y4w2a6",
        "outputId": "9cff23ec-716f-4567-cf32-dc36479ce21d"
      },
      "execution_count": 20,
      "outputs": [
        {
          "output_type": "display_data",
          "data": {
            "text/plain": [
              "Downloading model.safetensors:   0%|          | 0.00/499M [00:00<?, ?B/s]"
            ],
            "application/vnd.jupyter.widget-view+json": {
              "version_major": 2,
              "version_minor": 0,
              "model_id": "a8047e64c9b54bfdb36199f87b500e78"
            }
          },
          "metadata": {}
        },
        {
          "output_type": "stream",
          "name": "stderr",
          "text": [
            "Some weights of the PyTorch model were not used when initializing the TF 2.0 model TFRobertaForSequenceClassification: ['roberta.embeddings.position_ids']\n",
            "- This IS expected if you are initializing TFRobertaForSequenceClassification from a PyTorch model trained on another task or with another architecture (e.g. initializing a TFBertForSequenceClassification model from a BertForPreTraining model).\n",
            "- This IS NOT expected if you are initializing TFRobertaForSequenceClassification from a PyTorch model that you expect to be exactly identical (e.g. initializing a TFBertForSequenceClassification model from a BertForSequenceClassification model).\n",
            "Some weights or buffers of the TF 2.0 model TFRobertaForSequenceClassification were not initialized from the PyTorch model and are newly initialized: ['classifier.dense.weight', 'classifier.dense.bias', 'classifier.out_proj.weight', 'classifier.out_proj.bias']\n",
            "You should probably TRAIN this model on a down-stream task to be able to use it for predictions and inference.\n"
          ]
        },
        {
          "output_type": "stream",
          "name": "stdout",
          "text": [
            "Epoch 1/60\n",
            "33/33 [==============================] - 104s 452ms/step - loss: 3.9221 - sparse_categorical_accuracy: 0.0174 - Sparse_Top_3_Categorical_Accuracy: 0.0537 - val_loss: 3.9364 - val_sparse_categorical_accuracy: 0.0000e+00 - val_Sparse_Top_3_Categorical_Accuracy: 0.0143\n",
            "Epoch 2/60\n",
            "33/33 [==============================] - 7s 217ms/step - loss: 3.9135 - sparse_categorical_accuracy: 0.0224 - Sparse_Top_3_Categorical_Accuracy: 0.0669 - val_loss: 3.9288 - val_sparse_categorical_accuracy: 0.0052 - val_Sparse_Top_3_Categorical_Accuracy: 0.0404\n",
            "Epoch 3/60\n",
            "33/33 [==============================] - 7s 218ms/step - loss: 3.8809 - sparse_categorical_accuracy: 0.0284 - Sparse_Top_3_Categorical_Accuracy: 0.0987 - val_loss: 3.8158 - val_sparse_categorical_accuracy: 0.0938 - val_Sparse_Top_3_Categorical_Accuracy: 0.1784\n",
            "Epoch 4/60\n",
            "33/33 [==============================] - 7s 216ms/step - loss: 3.6961 - sparse_categorical_accuracy: 0.1445 - Sparse_Top_3_Categorical_Accuracy: 0.3028 - val_loss: 3.5219 - val_sparse_categorical_accuracy: 0.2773 - val_Sparse_Top_3_Categorical_Accuracy: 0.5924\n",
            "Epoch 5/60\n",
            "33/33 [==============================] - 7s 218ms/step - loss: 3.3785 - sparse_categorical_accuracy: 0.3918 - Sparse_Top_3_Categorical_Accuracy: 0.6558 - val_loss: 3.1981 - val_sparse_categorical_accuracy: 0.4310 - val_Sparse_Top_3_Categorical_Accuracy: 0.7435\n",
            "Epoch 6/60\n",
            "33/33 [==============================] - 7s 216ms/step - loss: 3.1086 - sparse_categorical_accuracy: 0.5128 - Sparse_Top_3_Categorical_Accuracy: 0.7741 - val_loss: 2.8946 - val_sparse_categorical_accuracy: 0.5417 - val_Sparse_Top_3_Categorical_Accuracy: 0.8034\n",
            "Epoch 7/60\n",
            "33/33 [==============================] - 8s 240ms/step - loss: 2.8595 - sparse_categorical_accuracy: 0.6044 - Sparse_Top_3_Categorical_Accuracy: 0.8201 - val_loss: 2.6444 - val_sparse_categorical_accuracy: 0.6146 - val_Sparse_Top_3_Categorical_Accuracy: 0.8359\n",
            "Epoch 8/60\n",
            "33/33 [==============================] - 7s 214ms/step - loss: 2.6330 - sparse_categorical_accuracy: 0.6671 - Sparse_Top_3_Categorical_Accuracy: 0.8529 - val_loss: 2.4452 - val_sparse_categorical_accuracy: 0.6445 - val_Sparse_Top_3_Categorical_Accuracy: 0.8932\n",
            "Epoch 9/60\n",
            "33/33 [==============================] - 7s 216ms/step - loss: 2.4333 - sparse_categorical_accuracy: 0.7081 - Sparse_Top_3_Categorical_Accuracy: 0.8771 - val_loss: 2.2718 - val_sparse_categorical_accuracy: 0.6719 - val_Sparse_Top_3_Categorical_Accuracy: 0.9141\n",
            "Epoch 10/60\n",
            "33/33 [==============================] - 8s 232ms/step - loss: 2.2573 - sparse_categorical_accuracy: 0.7367 - Sparse_Top_3_Categorical_Accuracy: 0.8917 - val_loss: 2.1096 - val_sparse_categorical_accuracy: 0.7044 - val_Sparse_Top_3_Categorical_Accuracy: 0.9219\n",
            "Epoch 11/60\n",
            "33/33 [==============================] - 7s 218ms/step - loss: 2.0951 - sparse_categorical_accuracy: 0.7627 - Sparse_Top_3_Categorical_Accuracy: 0.9018 - val_loss: 1.9616 - val_sparse_categorical_accuracy: 0.7188 - val_Sparse_Top_3_Categorical_Accuracy: 0.9258\n",
            "Epoch 12/60\n",
            "33/33 [==============================] - 7s 217ms/step - loss: 1.9512 - sparse_categorical_accuracy: 0.7794 - Sparse_Top_3_Categorical_Accuracy: 0.9093 - val_loss: 1.8163 - val_sparse_categorical_accuracy: 0.7331 - val_Sparse_Top_3_Categorical_Accuracy: 0.9323\n",
            "Epoch 13/60\n",
            "33/33 [==============================] - 7s 218ms/step - loss: 1.8127 - sparse_categorical_accuracy: 0.7949 - Sparse_Top_3_Categorical_Accuracy: 0.9155 - val_loss: 1.6887 - val_sparse_categorical_accuracy: 0.7461 - val_Sparse_Top_3_Categorical_Accuracy: 0.9349\n",
            "Epoch 14/60\n",
            "33/33 [==============================] - 7s 217ms/step - loss: 1.6915 - sparse_categorical_accuracy: 0.8043 - Sparse_Top_3_Categorical_Accuracy: 0.9237 - val_loss: 1.5717 - val_sparse_categorical_accuracy: 0.7669 - val_Sparse_Top_3_Categorical_Accuracy: 0.9401\n",
            "Epoch 15/60\n",
            "33/33 [==============================] - 7s 218ms/step - loss: 1.5752 - sparse_categorical_accuracy: 0.8194 - Sparse_Top_3_Categorical_Accuracy: 0.9313 - val_loss: 1.4645 - val_sparse_categorical_accuracy: 0.7812 - val_Sparse_Top_3_Categorical_Accuracy: 0.9414\n",
            "Epoch 16/60\n",
            "33/33 [==============================] - 7s 217ms/step - loss: 1.4732 - sparse_categorical_accuracy: 0.8277 - Sparse_Top_3_Categorical_Accuracy: 0.9324 - val_loss: 1.3619 - val_sparse_categorical_accuracy: 0.8034 - val_Sparse_Top_3_Categorical_Accuracy: 0.9440\n",
            "Epoch 17/60\n",
            "33/33 [==============================] - 7s 219ms/step - loss: 1.3766 - sparse_categorical_accuracy: 0.8349 - Sparse_Top_3_Categorical_Accuracy: 0.9401 - val_loss: 1.2701 - val_sparse_categorical_accuracy: 0.8190 - val_Sparse_Top_3_Categorical_Accuracy: 0.9492\n",
            "Epoch 18/60\n",
            "33/33 [==============================] - 8s 249ms/step - loss: 1.2897 - sparse_categorical_accuracy: 0.8487 - Sparse_Top_3_Categorical_Accuracy: 0.9445 - val_loss: 1.1873 - val_sparse_categorical_accuracy: 0.8385 - val_Sparse_Top_3_Categorical_Accuracy: 0.9466\n",
            "Epoch 19/60\n",
            "33/33 [==============================] - 7s 217ms/step - loss: 1.2061 - sparse_categorical_accuracy: 0.8608 - Sparse_Top_3_Categorical_Accuracy: 0.9466 - val_loss: 1.1051 - val_sparse_categorical_accuracy: 0.8620 - val_Sparse_Top_3_Categorical_Accuracy: 0.9492\n",
            "Epoch 20/60\n",
            "33/33 [==============================] - 7s 216ms/step - loss: 1.1327 - sparse_categorical_accuracy: 0.8662 - Sparse_Top_3_Categorical_Accuracy: 0.9516 - val_loss: 1.0369 - val_sparse_categorical_accuracy: 0.8737 - val_Sparse_Top_3_Categorical_Accuracy: 0.9531\n",
            "Epoch 21/60\n",
            "33/33 [==============================] - 7s 219ms/step - loss: 1.0610 - sparse_categorical_accuracy: 0.8769 - Sparse_Top_3_Categorical_Accuracy: 0.9555 - val_loss: 0.9814 - val_sparse_categorical_accuracy: 0.8802 - val_Sparse_Top_3_Categorical_Accuracy: 0.9518\n",
            "Epoch 22/60\n",
            "33/33 [==============================] - 7s 217ms/step - loss: 0.9974 - sparse_categorical_accuracy: 0.8841 - Sparse_Top_3_Categorical_Accuracy: 0.9570 - val_loss: 0.9260 - val_sparse_categorical_accuracy: 0.8867 - val_Sparse_Top_3_Categorical_Accuracy: 0.9544\n",
            "Epoch 23/60\n",
            "33/33 [==============================] - 7s 216ms/step - loss: 0.9365 - sparse_categorical_accuracy: 0.8902 - Sparse_Top_3_Categorical_Accuracy: 0.9607 - val_loss: 0.8799 - val_sparse_categorical_accuracy: 0.8867 - val_Sparse_Top_3_Categorical_Accuracy: 0.9518\n",
            "Epoch 24/60\n",
            "33/33 [==============================] - 7s 214ms/step - loss: 0.8801 - sparse_categorical_accuracy: 0.8964 - Sparse_Top_3_Categorical_Accuracy: 0.9639 - val_loss: 0.8349 - val_sparse_categorical_accuracy: 0.8893 - val_Sparse_Top_3_Categorical_Accuracy: 0.9557\n",
            "Epoch 25/60\n",
            "33/33 [==============================] - 7s 217ms/step - loss: 0.8280 - sparse_categorical_accuracy: 0.9014 - Sparse_Top_3_Categorical_Accuracy: 0.9664 - val_loss: 0.7957 - val_sparse_categorical_accuracy: 0.8867 - val_Sparse_Top_3_Categorical_Accuracy: 0.9544\n",
            "Epoch 26/60\n",
            "33/33 [==============================] - 7s 215ms/step - loss: 0.7818 - sparse_categorical_accuracy: 0.9072 - Sparse_Top_3_Categorical_Accuracy: 0.9673 - val_loss: 0.7479 - val_sparse_categorical_accuracy: 0.8932 - val_Sparse_Top_3_Categorical_Accuracy: 0.9583\n",
            "Epoch 27/60\n",
            "33/33 [==============================] - 7s 216ms/step - loss: 0.7379 - sparse_categorical_accuracy: 0.9106 - Sparse_Top_3_Categorical_Accuracy: 0.9695 - val_loss: 0.7108 - val_sparse_categorical_accuracy: 0.9062 - val_Sparse_Top_3_Categorical_Accuracy: 0.9596\n",
            "Epoch 28/60\n",
            "33/33 [==============================] - 7s 214ms/step - loss: 0.6971 - sparse_categorical_accuracy: 0.9151 - Sparse_Top_3_Categorical_Accuracy: 0.9711 - val_loss: 0.6735 - val_sparse_categorical_accuracy: 0.9102 - val_Sparse_Top_3_Categorical_Accuracy: 0.9583\n",
            "Epoch 29/60\n",
            "33/33 [==============================] - 7s 219ms/step - loss: 0.6590 - sparse_categorical_accuracy: 0.9183 - Sparse_Top_3_Categorical_Accuracy: 0.9728 - val_loss: 0.6460 - val_sparse_categorical_accuracy: 0.9102 - val_Sparse_Top_3_Categorical_Accuracy: 0.9622\n",
            "Epoch 30/60\n",
            "33/33 [==============================] - 7s 217ms/step - loss: 0.6223 - sparse_categorical_accuracy: 0.9223 - Sparse_Top_3_Categorical_Accuracy: 0.9760 - val_loss: 0.6260 - val_sparse_categorical_accuracy: 0.9115 - val_Sparse_Top_3_Categorical_Accuracy: 0.9609\n",
            "Epoch 31/60\n",
            "33/33 [==============================] - 7s 217ms/step - loss: 0.5900 - sparse_categorical_accuracy: 0.9264 - Sparse_Top_3_Categorical_Accuracy: 0.9769 - val_loss: 0.6054 - val_sparse_categorical_accuracy: 0.9154 - val_Sparse_Top_3_Categorical_Accuracy: 0.9583\n",
            "Epoch 32/60\n",
            "33/33 [==============================] - 7s 216ms/step - loss: 0.5615 - sparse_categorical_accuracy: 0.9266 - Sparse_Top_3_Categorical_Accuracy: 0.9788 - val_loss: 0.5955 - val_sparse_categorical_accuracy: 0.9076 - val_Sparse_Top_3_Categorical_Accuracy: 0.9609\n",
            "Epoch 33/60\n",
            "33/33 [==============================] - 7s 222ms/step - loss: 0.5345 - sparse_categorical_accuracy: 0.9293 - Sparse_Top_3_Categorical_Accuracy: 0.9802 - val_loss: 0.5668 - val_sparse_categorical_accuracy: 0.9141 - val_Sparse_Top_3_Categorical_Accuracy: 0.9635\n",
            "Epoch 34/60\n",
            "33/33 [==============================] - 7s 218ms/step - loss: 0.5130 - sparse_categorical_accuracy: 0.9299 - Sparse_Top_3_Categorical_Accuracy: 0.9809 - val_loss: 0.5522 - val_sparse_categorical_accuracy: 0.9128 - val_Sparse_Top_3_Categorical_Accuracy: 0.9596\n",
            "Epoch 35/60\n",
            "33/33 [==============================] - 7s 224ms/step - loss: 0.4865 - sparse_categorical_accuracy: 0.9325 - Sparse_Top_3_Categorical_Accuracy: 0.9828 - val_loss: 0.5361 - val_sparse_categorical_accuracy: 0.9128 - val_Sparse_Top_3_Categorical_Accuracy: 0.9596\n",
            "Epoch 36/60\n",
            "33/33 [==============================] - 7s 220ms/step - loss: 0.4653 - sparse_categorical_accuracy: 0.9354 - Sparse_Top_3_Categorical_Accuracy: 0.9832 - val_loss: 0.5176 - val_sparse_categorical_accuracy: 0.9193 - val_Sparse_Top_3_Categorical_Accuracy: 0.9622\n",
            "Epoch 37/60\n",
            "33/33 [==============================] - 7s 216ms/step - loss: 0.4431 - sparse_categorical_accuracy: 0.9387 - Sparse_Top_3_Categorical_Accuracy: 0.9858 - val_loss: 0.4935 - val_sparse_categorical_accuracy: 0.9219 - val_Sparse_Top_3_Categorical_Accuracy: 0.9648\n",
            "Epoch 38/60\n",
            "33/33 [==============================] - 7s 223ms/step - loss: 0.4206 - sparse_categorical_accuracy: 0.9396 - Sparse_Top_3_Categorical_Accuracy: 0.9852 - val_loss: 0.4849 - val_sparse_categorical_accuracy: 0.9193 - val_Sparse_Top_3_Categorical_Accuracy: 0.9635\n",
            "Epoch 39/60\n",
            "33/33 [==============================] - 7s 217ms/step - loss: 0.4007 - sparse_categorical_accuracy: 0.9437 - Sparse_Top_3_Categorical_Accuracy: 0.9864 - val_loss: 0.4711 - val_sparse_categorical_accuracy: 0.9206 - val_Sparse_Top_3_Categorical_Accuracy: 0.9661\n",
            "Epoch 40/60\n",
            "33/33 [==============================] - 8s 230ms/step - loss: 0.3794 - sparse_categorical_accuracy: 0.9448 - Sparse_Top_3_Categorical_Accuracy: 0.9866 - val_loss: 0.4631 - val_sparse_categorical_accuracy: 0.9193 - val_Sparse_Top_3_Categorical_Accuracy: 0.9674\n",
            "Epoch 41/60\n",
            "33/33 [==============================] - 7s 215ms/step - loss: 0.3632 - sparse_categorical_accuracy: 0.9466 - Sparse_Top_3_Categorical_Accuracy: 0.9886 - val_loss: 0.4567 - val_sparse_categorical_accuracy: 0.9141 - val_Sparse_Top_3_Categorical_Accuracy: 0.9674\n",
            "Epoch 42/60\n",
            "33/33 [==============================] - 7s 226ms/step - loss: 0.3460 - sparse_categorical_accuracy: 0.9487 - Sparse_Top_3_Categorical_Accuracy: 0.9892 - val_loss: 0.4476 - val_sparse_categorical_accuracy: 0.9219 - val_Sparse_Top_3_Categorical_Accuracy: 0.9701\n",
            "Epoch 43/60\n",
            "33/33 [==============================] - 7s 217ms/step - loss: 0.3312 - sparse_categorical_accuracy: 0.9483 - Sparse_Top_3_Categorical_Accuracy: 0.9902 - val_loss: 0.4498 - val_sparse_categorical_accuracy: 0.9102 - val_Sparse_Top_3_Categorical_Accuracy: 0.9674\n",
            "Epoch 44/60\n",
            "33/33 [==============================] - 7s 223ms/step - loss: 0.3168 - sparse_categorical_accuracy: 0.9534 - Sparse_Top_3_Categorical_Accuracy: 0.9924 - val_loss: 0.4336 - val_sparse_categorical_accuracy: 0.9206 - val_Sparse_Top_3_Categorical_Accuracy: 0.9674\n",
            "Epoch 45/60\n",
            "33/33 [==============================] - 7s 217ms/step - loss: 0.3007 - sparse_categorical_accuracy: 0.9553 - Sparse_Top_3_Categorical_Accuracy: 0.9920 - val_loss: 0.4291 - val_sparse_categorical_accuracy: 0.9167 - val_Sparse_Top_3_Categorical_Accuracy: 0.9688\n",
            "Epoch 46/60\n",
            "33/33 [==============================] - 7s 220ms/step - loss: 0.2907 - sparse_categorical_accuracy: 0.9557 - Sparse_Top_3_Categorical_Accuracy: 0.9928 - val_loss: 0.4322 - val_sparse_categorical_accuracy: 0.9167 - val_Sparse_Top_3_Categorical_Accuracy: 0.9688\n",
            "Epoch 47/60\n",
            "33/33 [==============================] - 7s 216ms/step - loss: 0.2759 - sparse_categorical_accuracy: 0.9582 - Sparse_Top_3_Categorical_Accuracy: 0.9925 - val_loss: 0.4227 - val_sparse_categorical_accuracy: 0.9180 - val_Sparse_Top_3_Categorical_Accuracy: 0.9714\n",
            "Epoch 48/60\n",
            "33/33 [==============================] - 7s 222ms/step - loss: 0.2603 - sparse_categorical_accuracy: 0.9609 - Sparse_Top_3_Categorical_Accuracy: 0.9953 - val_loss: 0.4136 - val_sparse_categorical_accuracy: 0.9219 - val_Sparse_Top_3_Categorical_Accuracy: 0.9701\n",
            "Epoch 49/60\n",
            "33/33 [==============================] - 7s 225ms/step - loss: 0.2509 - sparse_categorical_accuracy: 0.9606 - Sparse_Top_3_Categorical_Accuracy: 0.9948 - val_loss: 0.4239 - val_sparse_categorical_accuracy: 0.9128 - val_Sparse_Top_3_Categorical_Accuracy: 0.9701\n",
            "Epoch 50/60\n",
            "33/33 [==============================] - 7s 221ms/step - loss: 0.2396 - sparse_categorical_accuracy: 0.9626 - Sparse_Top_3_Categorical_Accuracy: 0.9954 - val_loss: 0.4254 - val_sparse_categorical_accuracy: 0.9102 - val_Sparse_Top_3_Categorical_Accuracy: 0.9688\n",
            "Epoch 51/60\n",
            "33/33 [==============================] - 8s 244ms/step - loss: 0.2309 - sparse_categorical_accuracy: 0.9644 - Sparse_Top_3_Categorical_Accuracy: 0.9951 - val_loss: 0.4233 - val_sparse_categorical_accuracy: 0.9115 - val_Sparse_Top_3_Categorical_Accuracy: 0.9688\n",
            "Epoch 52/60\n",
            "33/33 [==============================] - 7s 226ms/step - loss: 0.2201 - sparse_categorical_accuracy: 0.9666 - Sparse_Top_3_Categorical_Accuracy: 0.9959 - val_loss: 0.4191 - val_sparse_categorical_accuracy: 0.9141 - val_Sparse_Top_3_Categorical_Accuracy: 0.9661\n",
            "Epoch 53/60\n",
            "33/33 [==============================] - 7s 222ms/step - loss: 0.2127 - sparse_categorical_accuracy: 0.9666 - Sparse_Top_3_Categorical_Accuracy: 0.9959 - val_loss: 0.4123 - val_sparse_categorical_accuracy: 0.9154 - val_Sparse_Top_3_Categorical_Accuracy: 0.9714\n",
            "Epoch 54/60\n",
            "33/33 [==============================] - 7s 227ms/step - loss: 0.2013 - sparse_categorical_accuracy: 0.9699 - Sparse_Top_3_Categorical_Accuracy: 0.9966 - val_loss: 0.4113 - val_sparse_categorical_accuracy: 0.9154 - val_Sparse_Top_3_Categorical_Accuracy: 0.9714\n",
            "Epoch 55/60\n",
            "33/33 [==============================] - 7s 218ms/step - loss: 0.1922 - sparse_categorical_accuracy: 0.9714 - Sparse_Top_3_Categorical_Accuracy: 0.9968 - val_loss: 0.4132 - val_sparse_categorical_accuracy: 0.9128 - val_Sparse_Top_3_Categorical_Accuracy: 0.9674\n",
            "Epoch 56/60\n",
            "33/33 [==============================] - 7s 226ms/step - loss: 0.1812 - sparse_categorical_accuracy: 0.9738 - Sparse_Top_3_Categorical_Accuracy: 0.9973 - val_loss: 0.4211 - val_sparse_categorical_accuracy: 0.9141 - val_Sparse_Top_3_Categorical_Accuracy: 0.9740\n",
            "Epoch 57/60\n",
            "33/33 [==============================] - 7s 217ms/step - loss: 0.1741 - sparse_categorical_accuracy: 0.9732 - Sparse_Top_3_Categorical_Accuracy: 0.9980 - val_loss: 0.4133 - val_sparse_categorical_accuracy: 0.9154 - val_Sparse_Top_3_Categorical_Accuracy: 0.9701\n",
            "Epoch 58/60\n",
            "33/33 [==============================] - 7s 224ms/step - loss: 0.1657 - sparse_categorical_accuracy: 0.9747 - Sparse_Top_3_Categorical_Accuracy: 0.9975 - val_loss: 0.4072 - val_sparse_categorical_accuracy: 0.9180 - val_Sparse_Top_3_Categorical_Accuracy: 0.9714\n",
            "Epoch 59/60\n",
            "33/33 [==============================] - 7s 220ms/step - loss: 0.1622 - sparse_categorical_accuracy: 0.9742 - Sparse_Top_3_Categorical_Accuracy: 0.9982 - val_loss: 0.4100 - val_sparse_categorical_accuracy: 0.9206 - val_Sparse_Top_3_Categorical_Accuracy: 0.9701\n",
            "Epoch 60/60\n",
            "33/33 [==============================] - 7s 227ms/step - loss: 0.1526 - sparse_categorical_accuracy: 0.9772 - Sparse_Top_3_Categorical_Accuracy: 0.9982 - val_loss: 0.4264 - val_sparse_categorical_accuracy: 0.9102 - val_Sparse_Top_3_Categorical_Accuracy: 0.9740\n"
          ]
        }
      ]
    },
    {
      "cell_type": "code",
      "source": [
        "# Quick grid/hyperparameter search: Consider early stopping on val loss instead, as an option along with lr decay/scheduler:\n",
        "## roberta-base:\n",
        "\n",
        "# lr=3e-5 and 15 epochs reached train acc: 0.9216, val acc: 0.9049\n",
        "# lr=3e-5 and 30 epochs reached train acc: 0.9732, val acc: 0.9023 [overfit]\n",
        "# lr=3e-5 and 20 epochs reached train acc: 0.9464, val acc: 0.9036\n",
        "# lr=3e-5 and 25 epochs reached train acc: 0.9685, val acc: 0.9180\n",
        "\n",
        "# lr=2e-5 and 50 epochs reached 0.9902 acc, val acc: 0.9154 [overfit]\n",
        "# lr=2e-5 and 30 epochs reached 0.9607 acc, val acc: 0.9076\n",
        "\n",
        "# lr=1e-5 and 30 epochs reached 0.9206 acc, val acc: 0.9076\n",
        "# lr=1e-5 and 50 epochs reached 0.9615 acc, val acc: 0.9062\n",
        "# lr=1e-5 and 60 epochs reached train acc: 0.9772 , val acc: 0.9102\n",
        "\n",
        "\n",
        "# bert base uncased :\n",
        "## 1e-5 and 60 epochs reached 0.9693 acc"
      ],
      "metadata": {
        "id": "xNnNSH8xxAVi"
      },
      "execution_count": 21,
      "outputs": []
    },
    {
      "cell_type": "markdown",
      "source": [
        "## Test model/ Extract predictions from model:"
      ],
      "metadata": {
        "id": "I8db00Qy89Kv"
      }
    },
    {
      "cell_type": "code",
      "source": [
        "# The final model reached a 0.9102 top-1-accuracy on validation set, and a 0.9740 top-3-accuracy on the validation set.\n",
        "# To be more exact, one should actually split the data into train, test and validation and finally evaluate on the test dataset, instead."
      ],
      "metadata": {
        "id": "AcWAJl1rBdcq"
      },
      "execution_count": 22,
      "outputs": []
    },
    {
      "cell_type": "code",
      "source": [
        "def get_pred(msg):\n",
        "\n",
        "  with torch.no_grad():\n",
        "\n",
        "    inputs = tokenizer(msg, padding=True, truncation=True, return_tensors='tf')\n",
        "    output = model(inputs)[0]\n",
        "    pred_label = np.argmax(output, axis=1)[0]\n",
        "\n",
        "    prediction=list(label_to_ix.keys())[pred_label]\n",
        "  return prediction"
      ],
      "metadata": {
        "id": "vj45EfAsSlmo"
      },
      "execution_count": 23,
      "outputs": []
    },
    {
      "cell_type": "code",
      "source": [
        "get_pred('i am travelling for two more weeks but really need to change my pin asap. what do i do?')"
      ],
      "metadata": {
        "colab": {
          "base_uri": "https://localhost:8080/",
          "height": 35
        },
        "id": "6haRLMwRTiCu",
        "outputId": "ab0efa97-b74f-4e6e-af84-659f7b600ab8"
      },
      "execution_count": 24,
      "outputs": [
        {
          "output_type": "execute_result",
          "data": {
            "text/plain": [
              "'change_pin'"
            ],
            "application/vnd.google.colaboratory.intrinsic+json": {
              "type": "string"
            }
          },
          "metadata": {},
          "execution_count": 24
        }
      ]
    },
    {
      "cell_type": "code",
      "source": [
        "get_pred(\"How do I go about topping up with Google Pay?\")"
      ],
      "metadata": {
        "colab": {
          "base_uri": "https://localhost:8080/",
          "height": 35
        },
        "id": "OR4Htn7vi5tU",
        "outputId": "e275f9cd-efa8-4d53-c3fd-3929d6b726dd"
      },
      "execution_count": 25,
      "outputs": [
        {
          "output_type": "execute_result",
          "data": {
            "text/plain": [
              "'apple_pay_or_google_pay'"
            ],
            "application/vnd.google.colaboratory.intrinsic+json": {
              "type": "string"
            }
          },
          "metadata": {},
          "execution_count": 25
        }
      ]
    },
    {
      "cell_type": "code",
      "source": [
        "get_pred(\"I want a refund\")"
      ],
      "metadata": {
        "colab": {
          "base_uri": "https://localhost:8080/",
          "height": 35
        },
        "id": "odyyML5Njg_v",
        "outputId": "1d7dca52-5afc-442f-e256-4bcdc39c7e86"
      },
      "execution_count": 26,
      "outputs": [
        {
          "output_type": "execute_result",
          "data": {
            "text/plain": [
              "'request_refund'"
            ],
            "application/vnd.google.colaboratory.intrinsic+json": {
              "type": "string"
            }
          },
          "metadata": {},
          "execution_count": 26
        }
      ]
    },
    {
      "cell_type": "code",
      "source": [
        "get_pred(\"I topped up but it did not go through\")"
      ],
      "metadata": {
        "colab": {
          "base_uri": "https://localhost:8080/",
          "height": 35
        },
        "id": "DxOQMlfujmIJ",
        "outputId": "1d324f6b-ede0-415e-be5b-bd6804eaf144"
      },
      "execution_count": 27,
      "outputs": [
        {
          "output_type": "execute_result",
          "data": {
            "text/plain": [
              "'top_up_failed'"
            ],
            "application/vnd.google.colaboratory.intrinsic+json": {
              "type": "string"
            }
          },
          "metadata": {},
          "execution_count": 27
        }
      ]
    },
    {
      "cell_type": "code",
      "source": [
        "get_pred(\"I topped up and it is still processing. why? \")"
      ],
      "metadata": {
        "colab": {
          "base_uri": "https://localhost:8080/",
          "height": 35
        },
        "id": "4TbuaNs8j2zF",
        "outputId": "3d214bee-595f-4bc2-c535-8a15b05a0712"
      },
      "execution_count": 28,
      "outputs": [
        {
          "output_type": "execute_result",
          "data": {
            "text/plain": [
              "'pending_top_up'"
            ],
            "application/vnd.google.colaboratory.intrinsic+json": {
              "type": "string"
            }
          },
          "metadata": {},
          "execution_count": 28
        }
      ]
    },
    {
      "cell_type": "code",
      "source": [
        "# Response with typos:\n",
        "get_pred(\"I toppt up and it still processin.....  \")"
      ],
      "metadata": {
        "colab": {
          "base_uri": "https://localhost:8080/",
          "height": 35
        },
        "id": "36z7f19CkTlO",
        "outputId": "dc4d2032-4cfa-4732-e01f-913708cd645a"
      },
      "execution_count": 29,
      "outputs": [
        {
          "output_type": "execute_result",
          "data": {
            "text/plain": [
              "'pending_top_up'"
            ],
            "application/vnd.google.colaboratory.intrinsic+json": {
              "type": "string"
            }
          },
          "metadata": {},
          "execution_count": 29
        }
      ]
    }
  ]
}